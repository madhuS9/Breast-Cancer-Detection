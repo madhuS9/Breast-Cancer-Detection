{
 "cells": [
  {
   "cell_type": "markdown",
   "id": "85613f29-0e4f-4cf3-8e3c-0048a497c5c2",
   "metadata": {},
   "source": [
    "# Import Libraries"
   ]
  },
  {
   "cell_type": "markdown",
   "id": "a827497d-b37b-41e0-80c4-b64e980ef1e7",
   "metadata": {},
   "source": [
    "### The necessary libraries for data manipulation, visualization, and calculation are imported.\n",
    "\n",
    "#### Imports: Libraries for data handling, model training, and evaluation.\n",
    "\n",
    "#### Load Dataset: Reads 'wdbc.data', assigns column names (ID, Diagnosis, Features 1-30).\n",
    "\n",
    "#### Display: Shows the first 10 rows."
   ]
  },
  {
   "cell_type": "code",
   "execution_count": 2,
   "id": "55e4aa24-d3d1-42e3-ae18-c1ae8f66369e",
   "metadata": {},
   "outputs": [
    {
     "name": "stdout",
     "output_type": "stream",
     "text": [
      "         ID Diagnosis  Feature_1  Feature_2  Feature_3  Feature_4  Feature_5  \\\n",
      "0    842302         M      17.99      10.38     122.80     1001.0    0.11840   \n",
      "1    842517         M      20.57      17.77     132.90     1326.0    0.08474   \n",
      "2  84300903         M      19.69      21.25     130.00     1203.0    0.10960   \n",
      "3  84348301         M      11.42      20.38      77.58      386.1    0.14250   \n",
      "4  84358402         M      20.29      14.34     135.10     1297.0    0.10030   \n",
      "5    843786         M      12.45      15.70      82.57      477.1    0.12780   \n",
      "6    844359         M      18.25      19.98     119.60     1040.0    0.09463   \n",
      "7  84458202         M      13.71      20.83      90.20      577.9    0.11890   \n",
      "8    844981         M      13.00      21.82      87.50      519.8    0.12730   \n",
      "9  84501001         M      12.46      24.04      83.97      475.9    0.11860   \n",
      "\n",
      "   Feature_6  Feature_7  Feature_8  ...  Feature_21  Feature_22  Feature_23  \\\n",
      "0    0.27760    0.30010    0.14710  ...       25.38       17.33      184.60   \n",
      "1    0.07864    0.08690    0.07017  ...       24.99       23.41      158.80   \n",
      "2    0.15990    0.19740    0.12790  ...       23.57       25.53      152.50   \n",
      "3    0.28390    0.24140    0.10520  ...       14.91       26.50       98.87   \n",
      "4    0.13280    0.19800    0.10430  ...       22.54       16.67      152.20   \n",
      "5    0.17000    0.15780    0.08089  ...       15.47       23.75      103.40   \n",
      "6    0.10900    0.11270    0.07400  ...       22.88       27.66      153.20   \n",
      "7    0.16450    0.09366    0.05985  ...       17.06       28.14      110.60   \n",
      "8    0.19320    0.18590    0.09353  ...       15.49       30.73      106.20   \n",
      "9    0.23960    0.22730    0.08543  ...       15.09       40.68       97.65   \n",
      "\n",
      "   Feature_24  Feature_25  Feature_26  Feature_27  Feature_28  Feature_29  \\\n",
      "0      2019.0      0.1622      0.6656      0.7119      0.2654      0.4601   \n",
      "1      1956.0      0.1238      0.1866      0.2416      0.1860      0.2750   \n",
      "2      1709.0      0.1444      0.4245      0.4504      0.2430      0.3613   \n",
      "3       567.7      0.2098      0.8663      0.6869      0.2575      0.6638   \n",
      "4      1575.0      0.1374      0.2050      0.4000      0.1625      0.2364   \n",
      "5       741.6      0.1791      0.5249      0.5355      0.1741      0.3985   \n",
      "6      1606.0      0.1442      0.2576      0.3784      0.1932      0.3063   \n",
      "7       897.0      0.1654      0.3682      0.2678      0.1556      0.3196   \n",
      "8       739.3      0.1703      0.5401      0.5390      0.2060      0.4378   \n",
      "9       711.4      0.1853      1.0580      1.1050      0.2210      0.4366   \n",
      "\n",
      "   Feature_30  \n",
      "0     0.11890  \n",
      "1     0.08902  \n",
      "2     0.08758  \n",
      "3     0.17300  \n",
      "4     0.07678  \n",
      "5     0.12440  \n",
      "6     0.08368  \n",
      "7     0.11510  \n",
      "8     0.10720  \n",
      "9     0.20750  \n",
      "\n",
      "[10 rows x 32 columns]\n"
     ]
    }
   ],
   "source": [
    "import pandas as pd\n",
    "import numpy as np\n",
    "from sklearn.preprocessing import StandardScaler\n",
    "from sklearn.ensemble import AdaBoostClassifier, RandomForestClassifier\n",
    "from sklearn.model_selection import train_test_split\n",
    "from sklearn.metrics import accuracy_score, precision_score, recall_score, f1_score, confusion_matrix\n",
    "from imblearn.over_sampling import SMOTE\n",
    "from statsmodels.stats.outliers_influence import variance_inflation_factor\n",
    "import seaborn as sns\n",
    "import matplotlib.pyplot as plt\n",
    "\n",
    "# Load the dataset\n",
    "columns = ['ID', 'Diagnosis'] + [f'Feature_{i}' for i in range(1, 31)]\n",
    "data = pd.read_csv('wdbc.data', header=None, names=columns)\n",
    "\n",
    "# Show the first 5 rows\n",
    "print(data.head(10))"
   ]
  },
  {
   "cell_type": "markdown",
   "id": "fbb70ee1-6e79-428f-90de-14b27ccbb92d",
   "metadata": {},
   "source": [
    "#### Dataset includes ID, Diagnosis, and features.\n",
    "\n",
    "#### Check if 'Diagnosis' is imbalanced."
   ]
  },
  {
   "cell_type": "markdown",
   "id": "5405b882-04ac-4e0a-98c1-2dce9c41a87d",
   "metadata": {},
   "source": [
    "## Inspecting the data\n",
    "\n",
    "### Print last 10 rows"
   ]
  },
  {
   "cell_type": "code",
   "execution_count": 3,
   "id": "94c20b4d-a834-4016-a9a1-b05573df509a",
   "metadata": {},
   "outputs": [
    {
     "name": "stdout",
     "output_type": "stream",
     "text": [
      "         ID Diagnosis  Feature_1  Feature_2  Feature_3  Feature_4  Feature_5  \\\n",
      "559  925291         B      11.51      23.93      74.52      403.5    0.09261   \n",
      "560  925292         B      14.05      27.15      91.38      600.4    0.09929   \n",
      "561  925311         B      11.20      29.37      70.67      386.0    0.07449   \n",
      "562  925622         M      15.22      30.62     103.40      716.9    0.10480   \n",
      "563  926125         M      20.92      25.09     143.00     1347.0    0.10990   \n",
      "564  926424         M      21.56      22.39     142.00     1479.0    0.11100   \n",
      "565  926682         M      20.13      28.25     131.20     1261.0    0.09780   \n",
      "566  926954         M      16.60      28.08     108.30      858.1    0.08455   \n",
      "567  927241         M      20.60      29.33     140.10     1265.0    0.11780   \n",
      "568   92751         B       7.76      24.54      47.92      181.0    0.05263   \n",
      "\n",
      "     Feature_6  Feature_7  Feature_8  ...  Feature_21  Feature_22  Feature_23  \\\n",
      "559    0.10210    0.11120    0.04105  ...      12.480       37.16       82.28   \n",
      "560    0.11260    0.04462    0.04304  ...      15.300       33.17      100.20   \n",
      "561    0.03558    0.00000    0.00000  ...      11.920       38.30       75.19   \n",
      "562    0.20870    0.25500    0.09429  ...      17.520       42.79      128.70   \n",
      "563    0.22360    0.31740    0.14740  ...      24.290       29.41      179.10   \n",
      "564    0.11590    0.24390    0.13890  ...      25.450       26.40      166.10   \n",
      "565    0.10340    0.14400    0.09791  ...      23.690       38.25      155.00   \n",
      "566    0.10230    0.09251    0.05302  ...      18.980       34.12      126.70   \n",
      "567    0.27700    0.35140    0.15200  ...      25.740       39.42      184.60   \n",
      "568    0.04362    0.00000    0.00000  ...       9.456       30.37       59.16   \n",
      "\n",
      "     Feature_24  Feature_25  Feature_26  Feature_27  Feature_28  Feature_29  \\\n",
      "559       474.2     0.12980     0.25170      0.3630     0.09653      0.2112   \n",
      "560       706.7     0.12410     0.22640      0.1326     0.10480      0.2250   \n",
      "561       439.6     0.09267     0.05494      0.0000     0.00000      0.1566   \n",
      "562       915.0     0.14170     0.79170      1.1700     0.23560      0.4089   \n",
      "563      1819.0     0.14070     0.41860      0.6599     0.25420      0.2929   \n",
      "564      2027.0     0.14100     0.21130      0.4107     0.22160      0.2060   \n",
      "565      1731.0     0.11660     0.19220      0.3215     0.16280      0.2572   \n",
      "566      1124.0     0.11390     0.30940      0.3403     0.14180      0.2218   \n",
      "567      1821.0     0.16500     0.86810      0.9387     0.26500      0.4087   \n",
      "568       268.6     0.08996     0.06444      0.0000     0.00000      0.2871   \n",
      "\n",
      "     Feature_30  \n",
      "559     0.08732  \n",
      "560     0.08321  \n",
      "561     0.05905  \n",
      "562     0.14090  \n",
      "563     0.09873  \n",
      "564     0.07115  \n",
      "565     0.06637  \n",
      "566     0.07820  \n",
      "567     0.12400  \n",
      "568     0.07039  \n",
      "\n",
      "[10 rows x 32 columns]\n"
     ]
    }
   ],
   "source": [
    "print(data.tail(10))"
   ]
  },
  {
   "cell_type": "markdown",
   "id": "bd3281d9-b13d-462a-81f2-190830936419",
   "metadata": {},
   "source": [
    "### data.shape: Returns the dimensions of the dataset (rows, columns)"
   ]
  },
  {
   "cell_type": "code",
   "execution_count": 4,
   "id": "4afb6bb0-6d86-454c-8902-bdc7bd9acc8a",
   "metadata": {},
   "outputs": [
    {
     "data": {
      "text/plain": [
       "(569, 32)"
      ]
     },
     "execution_count": 4,
     "metadata": {},
     "output_type": "execute_result"
    }
   ],
   "source": [
    "data.shape"
   ]
  },
  {
   "cell_type": "markdown",
   "id": "dbad7757-64a4-4fac-8b21-5abd2fe6b579",
   "metadata": {},
   "source": [
    "### data.info(): Displays concise summary of the dataset, including the number of non-null entries, data types, and memory usage"
   ]
  },
  {
   "cell_type": "code",
   "execution_count": 5,
   "id": "05354331-e389-4a10-949e-36709dade87e",
   "metadata": {},
   "outputs": [
    {
     "name": "stdout",
     "output_type": "stream",
     "text": [
      "<class 'pandas.core.frame.DataFrame'>\n",
      "RangeIndex: 569 entries, 0 to 568\n",
      "Data columns (total 32 columns):\n",
      " #   Column      Non-Null Count  Dtype  \n",
      "---  ------      --------------  -----  \n",
      " 0   ID          569 non-null    int64  \n",
      " 1   Diagnosis   569 non-null    object \n",
      " 2   Feature_1   569 non-null    float64\n",
      " 3   Feature_2   569 non-null    float64\n",
      " 4   Feature_3   569 non-null    float64\n",
      " 5   Feature_4   569 non-null    float64\n",
      " 6   Feature_5   569 non-null    float64\n",
      " 7   Feature_6   569 non-null    float64\n",
      " 8   Feature_7   569 non-null    float64\n",
      " 9   Feature_8   569 non-null    float64\n",
      " 10  Feature_9   569 non-null    float64\n",
      " 11  Feature_10  569 non-null    float64\n",
      " 12  Feature_11  569 non-null    float64\n",
      " 13  Feature_12  569 non-null    float64\n",
      " 14  Feature_13  569 non-null    float64\n",
      " 15  Feature_14  569 non-null    float64\n",
      " 16  Feature_15  569 non-null    float64\n",
      " 17  Feature_16  569 non-null    float64\n",
      " 18  Feature_17  569 non-null    float64\n",
      " 19  Feature_18  569 non-null    float64\n",
      " 20  Feature_19  569 non-null    float64\n",
      " 21  Feature_20  569 non-null    float64\n",
      " 22  Feature_21  569 non-null    float64\n",
      " 23  Feature_22  569 non-null    float64\n",
      " 24  Feature_23  569 non-null    float64\n",
      " 25  Feature_24  569 non-null    float64\n",
      " 26  Feature_25  569 non-null    float64\n",
      " 27  Feature_26  569 non-null    float64\n",
      " 28  Feature_27  569 non-null    float64\n",
      " 29  Feature_28  569 non-null    float64\n",
      " 30  Feature_29  569 non-null    float64\n",
      " 31  Feature_30  569 non-null    float64\n",
      "dtypes: float64(30), int64(1), object(1)\n",
      "memory usage: 142.4+ KB\n"
     ]
    }
   ],
   "source": [
    "data.info()"
   ]
  },
  {
   "cell_type": "markdown",
   "id": "db362bbb-b06c-4ce6-962b-16bda9ad696b",
   "metadata": {},
   "source": [
    "### Statistical Summary: Gives statistical insights such as mean, standard deviation, min, and max for numerical columns."
   ]
  },
  {
   "cell_type": "code",
   "execution_count": 6,
   "id": "101bacde-5ab1-4f70-90f2-3fd1b3e2fd75",
   "metadata": {},
   "outputs": [
    {
     "data": {
      "text/html": [
       "<div>\n",
       "<style scoped>\n",
       "    .dataframe tbody tr th:only-of-type {\n",
       "        vertical-align: middle;\n",
       "    }\n",
       "\n",
       "    .dataframe tbody tr th {\n",
       "        vertical-align: top;\n",
       "    }\n",
       "\n",
       "    .dataframe thead th {\n",
       "        text-align: right;\n",
       "    }\n",
       "</style>\n",
       "<table border=\"1\" class=\"dataframe\">\n",
       "  <thead>\n",
       "    <tr style=\"text-align: right;\">\n",
       "      <th></th>\n",
       "      <th>count</th>\n",
       "      <th>mean</th>\n",
       "      <th>std</th>\n",
       "      <th>min</th>\n",
       "      <th>25%</th>\n",
       "      <th>50%</th>\n",
       "      <th>75%</th>\n",
       "      <th>max</th>\n",
       "    </tr>\n",
       "  </thead>\n",
       "  <tbody>\n",
       "    <tr>\n",
       "      <th>ID</th>\n",
       "      <td>569.0</td>\n",
       "      <td>3.037183e+07</td>\n",
       "      <td>1.250206e+08</td>\n",
       "      <td>8670.000000</td>\n",
       "      <td>869218.000000</td>\n",
       "      <td>906024.000000</td>\n",
       "      <td>8.813129e+06</td>\n",
       "      <td>9.113205e+08</td>\n",
       "    </tr>\n",
       "    <tr>\n",
       "      <th>Feature_1</th>\n",
       "      <td>569.0</td>\n",
       "      <td>1.412729e+01</td>\n",
       "      <td>3.524049e+00</td>\n",
       "      <td>6.981000</td>\n",
       "      <td>11.700000</td>\n",
       "      <td>13.370000</td>\n",
       "      <td>1.578000e+01</td>\n",
       "      <td>2.811000e+01</td>\n",
       "    </tr>\n",
       "    <tr>\n",
       "      <th>Feature_2</th>\n",
       "      <td>569.0</td>\n",
       "      <td>1.928965e+01</td>\n",
       "      <td>4.301036e+00</td>\n",
       "      <td>9.710000</td>\n",
       "      <td>16.170000</td>\n",
       "      <td>18.840000</td>\n",
       "      <td>2.180000e+01</td>\n",
       "      <td>3.928000e+01</td>\n",
       "    </tr>\n",
       "    <tr>\n",
       "      <th>Feature_3</th>\n",
       "      <td>569.0</td>\n",
       "      <td>9.196903e+01</td>\n",
       "      <td>2.429898e+01</td>\n",
       "      <td>43.790000</td>\n",
       "      <td>75.170000</td>\n",
       "      <td>86.240000</td>\n",
       "      <td>1.041000e+02</td>\n",
       "      <td>1.885000e+02</td>\n",
       "    </tr>\n",
       "    <tr>\n",
       "      <th>Feature_4</th>\n",
       "      <td>569.0</td>\n",
       "      <td>6.548891e+02</td>\n",
       "      <td>3.519141e+02</td>\n",
       "      <td>143.500000</td>\n",
       "      <td>420.300000</td>\n",
       "      <td>551.100000</td>\n",
       "      <td>7.827000e+02</td>\n",
       "      <td>2.501000e+03</td>\n",
       "    </tr>\n",
       "    <tr>\n",
       "      <th>Feature_5</th>\n",
       "      <td>569.0</td>\n",
       "      <td>9.636028e-02</td>\n",
       "      <td>1.406413e-02</td>\n",
       "      <td>0.052630</td>\n",
       "      <td>0.086370</td>\n",
       "      <td>0.095870</td>\n",
       "      <td>1.053000e-01</td>\n",
       "      <td>1.634000e-01</td>\n",
       "    </tr>\n",
       "    <tr>\n",
       "      <th>Feature_6</th>\n",
       "      <td>569.0</td>\n",
       "      <td>1.043410e-01</td>\n",
       "      <td>5.281276e-02</td>\n",
       "      <td>0.019380</td>\n",
       "      <td>0.064920</td>\n",
       "      <td>0.092630</td>\n",
       "      <td>1.304000e-01</td>\n",
       "      <td>3.454000e-01</td>\n",
       "    </tr>\n",
       "    <tr>\n",
       "      <th>Feature_7</th>\n",
       "      <td>569.0</td>\n",
       "      <td>8.879932e-02</td>\n",
       "      <td>7.971981e-02</td>\n",
       "      <td>0.000000</td>\n",
       "      <td>0.029560</td>\n",
       "      <td>0.061540</td>\n",
       "      <td>1.307000e-01</td>\n",
       "      <td>4.268000e-01</td>\n",
       "    </tr>\n",
       "    <tr>\n",
       "      <th>Feature_8</th>\n",
       "      <td>569.0</td>\n",
       "      <td>4.891915e-02</td>\n",
       "      <td>3.880284e-02</td>\n",
       "      <td>0.000000</td>\n",
       "      <td>0.020310</td>\n",
       "      <td>0.033500</td>\n",
       "      <td>7.400000e-02</td>\n",
       "      <td>2.012000e-01</td>\n",
       "    </tr>\n",
       "    <tr>\n",
       "      <th>Feature_9</th>\n",
       "      <td>569.0</td>\n",
       "      <td>1.811619e-01</td>\n",
       "      <td>2.741428e-02</td>\n",
       "      <td>0.106000</td>\n",
       "      <td>0.161900</td>\n",
       "      <td>0.179200</td>\n",
       "      <td>1.957000e-01</td>\n",
       "      <td>3.040000e-01</td>\n",
       "    </tr>\n",
       "    <tr>\n",
       "      <th>Feature_10</th>\n",
       "      <td>569.0</td>\n",
       "      <td>6.279761e-02</td>\n",
       "      <td>7.060363e-03</td>\n",
       "      <td>0.049960</td>\n",
       "      <td>0.057700</td>\n",
       "      <td>0.061540</td>\n",
       "      <td>6.612000e-02</td>\n",
       "      <td>9.744000e-02</td>\n",
       "    </tr>\n",
       "    <tr>\n",
       "      <th>Feature_11</th>\n",
       "      <td>569.0</td>\n",
       "      <td>4.051721e-01</td>\n",
       "      <td>2.773127e-01</td>\n",
       "      <td>0.111500</td>\n",
       "      <td>0.232400</td>\n",
       "      <td>0.324200</td>\n",
       "      <td>4.789000e-01</td>\n",
       "      <td>2.873000e+00</td>\n",
       "    </tr>\n",
       "    <tr>\n",
       "      <th>Feature_12</th>\n",
       "      <td>569.0</td>\n",
       "      <td>1.216853e+00</td>\n",
       "      <td>5.516484e-01</td>\n",
       "      <td>0.360200</td>\n",
       "      <td>0.833900</td>\n",
       "      <td>1.108000</td>\n",
       "      <td>1.474000e+00</td>\n",
       "      <td>4.885000e+00</td>\n",
       "    </tr>\n",
       "    <tr>\n",
       "      <th>Feature_13</th>\n",
       "      <td>569.0</td>\n",
       "      <td>2.866059e+00</td>\n",
       "      <td>2.021855e+00</td>\n",
       "      <td>0.757000</td>\n",
       "      <td>1.606000</td>\n",
       "      <td>2.287000</td>\n",
       "      <td>3.357000e+00</td>\n",
       "      <td>2.198000e+01</td>\n",
       "    </tr>\n",
       "    <tr>\n",
       "      <th>Feature_14</th>\n",
       "      <td>569.0</td>\n",
       "      <td>4.033708e+01</td>\n",
       "      <td>4.549101e+01</td>\n",
       "      <td>6.802000</td>\n",
       "      <td>17.850000</td>\n",
       "      <td>24.530000</td>\n",
       "      <td>4.519000e+01</td>\n",
       "      <td>5.422000e+02</td>\n",
       "    </tr>\n",
       "    <tr>\n",
       "      <th>Feature_15</th>\n",
       "      <td>569.0</td>\n",
       "      <td>7.040979e-03</td>\n",
       "      <td>3.002518e-03</td>\n",
       "      <td>0.001713</td>\n",
       "      <td>0.005169</td>\n",
       "      <td>0.006380</td>\n",
       "      <td>8.146000e-03</td>\n",
       "      <td>3.113000e-02</td>\n",
       "    </tr>\n",
       "    <tr>\n",
       "      <th>Feature_16</th>\n",
       "      <td>569.0</td>\n",
       "      <td>2.547814e-02</td>\n",
       "      <td>1.790818e-02</td>\n",
       "      <td>0.002252</td>\n",
       "      <td>0.013080</td>\n",
       "      <td>0.020450</td>\n",
       "      <td>3.245000e-02</td>\n",
       "      <td>1.354000e-01</td>\n",
       "    </tr>\n",
       "    <tr>\n",
       "      <th>Feature_17</th>\n",
       "      <td>569.0</td>\n",
       "      <td>3.189372e-02</td>\n",
       "      <td>3.018606e-02</td>\n",
       "      <td>0.000000</td>\n",
       "      <td>0.015090</td>\n",
       "      <td>0.025890</td>\n",
       "      <td>4.205000e-02</td>\n",
       "      <td>3.960000e-01</td>\n",
       "    </tr>\n",
       "    <tr>\n",
       "      <th>Feature_18</th>\n",
       "      <td>569.0</td>\n",
       "      <td>1.179614e-02</td>\n",
       "      <td>6.170285e-03</td>\n",
       "      <td>0.000000</td>\n",
       "      <td>0.007638</td>\n",
       "      <td>0.010930</td>\n",
       "      <td>1.471000e-02</td>\n",
       "      <td>5.279000e-02</td>\n",
       "    </tr>\n",
       "    <tr>\n",
       "      <th>Feature_19</th>\n",
       "      <td>569.0</td>\n",
       "      <td>2.054230e-02</td>\n",
       "      <td>8.266372e-03</td>\n",
       "      <td>0.007882</td>\n",
       "      <td>0.015160</td>\n",
       "      <td>0.018730</td>\n",
       "      <td>2.348000e-02</td>\n",
       "      <td>7.895000e-02</td>\n",
       "    </tr>\n",
       "    <tr>\n",
       "      <th>Feature_20</th>\n",
       "      <td>569.0</td>\n",
       "      <td>3.794904e-03</td>\n",
       "      <td>2.646071e-03</td>\n",
       "      <td>0.000895</td>\n",
       "      <td>0.002248</td>\n",
       "      <td>0.003187</td>\n",
       "      <td>4.558000e-03</td>\n",
       "      <td>2.984000e-02</td>\n",
       "    </tr>\n",
       "    <tr>\n",
       "      <th>Feature_21</th>\n",
       "      <td>569.0</td>\n",
       "      <td>1.626919e+01</td>\n",
       "      <td>4.833242e+00</td>\n",
       "      <td>7.930000</td>\n",
       "      <td>13.010000</td>\n",
       "      <td>14.970000</td>\n",
       "      <td>1.879000e+01</td>\n",
       "      <td>3.604000e+01</td>\n",
       "    </tr>\n",
       "    <tr>\n",
       "      <th>Feature_22</th>\n",
       "      <td>569.0</td>\n",
       "      <td>2.567722e+01</td>\n",
       "      <td>6.146258e+00</td>\n",
       "      <td>12.020000</td>\n",
       "      <td>21.080000</td>\n",
       "      <td>25.410000</td>\n",
       "      <td>2.972000e+01</td>\n",
       "      <td>4.954000e+01</td>\n",
       "    </tr>\n",
       "    <tr>\n",
       "      <th>Feature_23</th>\n",
       "      <td>569.0</td>\n",
       "      <td>1.072612e+02</td>\n",
       "      <td>3.360254e+01</td>\n",
       "      <td>50.410000</td>\n",
       "      <td>84.110000</td>\n",
       "      <td>97.660000</td>\n",
       "      <td>1.254000e+02</td>\n",
       "      <td>2.512000e+02</td>\n",
       "    </tr>\n",
       "    <tr>\n",
       "      <th>Feature_24</th>\n",
       "      <td>569.0</td>\n",
       "      <td>8.805831e+02</td>\n",
       "      <td>5.693570e+02</td>\n",
       "      <td>185.200000</td>\n",
       "      <td>515.300000</td>\n",
       "      <td>686.500000</td>\n",
       "      <td>1.084000e+03</td>\n",
       "      <td>4.254000e+03</td>\n",
       "    </tr>\n",
       "    <tr>\n",
       "      <th>Feature_25</th>\n",
       "      <td>569.0</td>\n",
       "      <td>1.323686e-01</td>\n",
       "      <td>2.283243e-02</td>\n",
       "      <td>0.071170</td>\n",
       "      <td>0.116600</td>\n",
       "      <td>0.131300</td>\n",
       "      <td>1.460000e-01</td>\n",
       "      <td>2.226000e-01</td>\n",
       "    </tr>\n",
       "    <tr>\n",
       "      <th>Feature_26</th>\n",
       "      <td>569.0</td>\n",
       "      <td>2.542650e-01</td>\n",
       "      <td>1.573365e-01</td>\n",
       "      <td>0.027290</td>\n",
       "      <td>0.147200</td>\n",
       "      <td>0.211900</td>\n",
       "      <td>3.391000e-01</td>\n",
       "      <td>1.058000e+00</td>\n",
       "    </tr>\n",
       "    <tr>\n",
       "      <th>Feature_27</th>\n",
       "      <td>569.0</td>\n",
       "      <td>2.721885e-01</td>\n",
       "      <td>2.086243e-01</td>\n",
       "      <td>0.000000</td>\n",
       "      <td>0.114500</td>\n",
       "      <td>0.226700</td>\n",
       "      <td>3.829000e-01</td>\n",
       "      <td>1.252000e+00</td>\n",
       "    </tr>\n",
       "    <tr>\n",
       "      <th>Feature_28</th>\n",
       "      <td>569.0</td>\n",
       "      <td>1.146062e-01</td>\n",
       "      <td>6.573234e-02</td>\n",
       "      <td>0.000000</td>\n",
       "      <td>0.064930</td>\n",
       "      <td>0.099930</td>\n",
       "      <td>1.614000e-01</td>\n",
       "      <td>2.910000e-01</td>\n",
       "    </tr>\n",
       "    <tr>\n",
       "      <th>Feature_29</th>\n",
       "      <td>569.0</td>\n",
       "      <td>2.900756e-01</td>\n",
       "      <td>6.186747e-02</td>\n",
       "      <td>0.156500</td>\n",
       "      <td>0.250400</td>\n",
       "      <td>0.282200</td>\n",
       "      <td>3.179000e-01</td>\n",
       "      <td>6.638000e-01</td>\n",
       "    </tr>\n",
       "    <tr>\n",
       "      <th>Feature_30</th>\n",
       "      <td>569.0</td>\n",
       "      <td>8.394582e-02</td>\n",
       "      <td>1.806127e-02</td>\n",
       "      <td>0.055040</td>\n",
       "      <td>0.071460</td>\n",
       "      <td>0.080040</td>\n",
       "      <td>9.208000e-02</td>\n",
       "      <td>2.075000e-01</td>\n",
       "    </tr>\n",
       "  </tbody>\n",
       "</table>\n",
       "</div>"
      ],
      "text/plain": [
       "            count          mean           std          min            25%  \\\n",
       "ID          569.0  3.037183e+07  1.250206e+08  8670.000000  869218.000000   \n",
       "Feature_1   569.0  1.412729e+01  3.524049e+00     6.981000      11.700000   \n",
       "Feature_2   569.0  1.928965e+01  4.301036e+00     9.710000      16.170000   \n",
       "Feature_3   569.0  9.196903e+01  2.429898e+01    43.790000      75.170000   \n",
       "Feature_4   569.0  6.548891e+02  3.519141e+02   143.500000     420.300000   \n",
       "Feature_5   569.0  9.636028e-02  1.406413e-02     0.052630       0.086370   \n",
       "Feature_6   569.0  1.043410e-01  5.281276e-02     0.019380       0.064920   \n",
       "Feature_7   569.0  8.879932e-02  7.971981e-02     0.000000       0.029560   \n",
       "Feature_8   569.0  4.891915e-02  3.880284e-02     0.000000       0.020310   \n",
       "Feature_9   569.0  1.811619e-01  2.741428e-02     0.106000       0.161900   \n",
       "Feature_10  569.0  6.279761e-02  7.060363e-03     0.049960       0.057700   \n",
       "Feature_11  569.0  4.051721e-01  2.773127e-01     0.111500       0.232400   \n",
       "Feature_12  569.0  1.216853e+00  5.516484e-01     0.360200       0.833900   \n",
       "Feature_13  569.0  2.866059e+00  2.021855e+00     0.757000       1.606000   \n",
       "Feature_14  569.0  4.033708e+01  4.549101e+01     6.802000      17.850000   \n",
       "Feature_15  569.0  7.040979e-03  3.002518e-03     0.001713       0.005169   \n",
       "Feature_16  569.0  2.547814e-02  1.790818e-02     0.002252       0.013080   \n",
       "Feature_17  569.0  3.189372e-02  3.018606e-02     0.000000       0.015090   \n",
       "Feature_18  569.0  1.179614e-02  6.170285e-03     0.000000       0.007638   \n",
       "Feature_19  569.0  2.054230e-02  8.266372e-03     0.007882       0.015160   \n",
       "Feature_20  569.0  3.794904e-03  2.646071e-03     0.000895       0.002248   \n",
       "Feature_21  569.0  1.626919e+01  4.833242e+00     7.930000      13.010000   \n",
       "Feature_22  569.0  2.567722e+01  6.146258e+00    12.020000      21.080000   \n",
       "Feature_23  569.0  1.072612e+02  3.360254e+01    50.410000      84.110000   \n",
       "Feature_24  569.0  8.805831e+02  5.693570e+02   185.200000     515.300000   \n",
       "Feature_25  569.0  1.323686e-01  2.283243e-02     0.071170       0.116600   \n",
       "Feature_26  569.0  2.542650e-01  1.573365e-01     0.027290       0.147200   \n",
       "Feature_27  569.0  2.721885e-01  2.086243e-01     0.000000       0.114500   \n",
       "Feature_28  569.0  1.146062e-01  6.573234e-02     0.000000       0.064930   \n",
       "Feature_29  569.0  2.900756e-01  6.186747e-02     0.156500       0.250400   \n",
       "Feature_30  569.0  8.394582e-02  1.806127e-02     0.055040       0.071460   \n",
       "\n",
       "                      50%           75%           max  \n",
       "ID          906024.000000  8.813129e+06  9.113205e+08  \n",
       "Feature_1       13.370000  1.578000e+01  2.811000e+01  \n",
       "Feature_2       18.840000  2.180000e+01  3.928000e+01  \n",
       "Feature_3       86.240000  1.041000e+02  1.885000e+02  \n",
       "Feature_4      551.100000  7.827000e+02  2.501000e+03  \n",
       "Feature_5        0.095870  1.053000e-01  1.634000e-01  \n",
       "Feature_6        0.092630  1.304000e-01  3.454000e-01  \n",
       "Feature_7        0.061540  1.307000e-01  4.268000e-01  \n",
       "Feature_8        0.033500  7.400000e-02  2.012000e-01  \n",
       "Feature_9        0.179200  1.957000e-01  3.040000e-01  \n",
       "Feature_10       0.061540  6.612000e-02  9.744000e-02  \n",
       "Feature_11       0.324200  4.789000e-01  2.873000e+00  \n",
       "Feature_12       1.108000  1.474000e+00  4.885000e+00  \n",
       "Feature_13       2.287000  3.357000e+00  2.198000e+01  \n",
       "Feature_14      24.530000  4.519000e+01  5.422000e+02  \n",
       "Feature_15       0.006380  8.146000e-03  3.113000e-02  \n",
       "Feature_16       0.020450  3.245000e-02  1.354000e-01  \n",
       "Feature_17       0.025890  4.205000e-02  3.960000e-01  \n",
       "Feature_18       0.010930  1.471000e-02  5.279000e-02  \n",
       "Feature_19       0.018730  2.348000e-02  7.895000e-02  \n",
       "Feature_20       0.003187  4.558000e-03  2.984000e-02  \n",
       "Feature_21      14.970000  1.879000e+01  3.604000e+01  \n",
       "Feature_22      25.410000  2.972000e+01  4.954000e+01  \n",
       "Feature_23      97.660000  1.254000e+02  2.512000e+02  \n",
       "Feature_24     686.500000  1.084000e+03  4.254000e+03  \n",
       "Feature_25       0.131300  1.460000e-01  2.226000e-01  \n",
       "Feature_26       0.211900  3.391000e-01  1.058000e+00  \n",
       "Feature_27       0.226700  3.829000e-01  1.252000e+00  \n",
       "Feature_28       0.099930  1.614000e-01  2.910000e-01  \n",
       "Feature_29       0.282200  3.179000e-01  6.638000e-01  \n",
       "Feature_30       0.080040  9.208000e-02  2.075000e-01  "
      ]
     },
     "execution_count": 6,
     "metadata": {},
     "output_type": "execute_result"
    }
   ],
   "source": [
    "data.describe().T"
   ]
  },
  {
   "cell_type": "markdown",
   "id": "9b552d0a-9e0e-4624-9a85-1b3562504a37",
   "metadata": {},
   "source": [
    "## Dropin 'ID' Cloumn since we dont need that for scaling and separate features"
   ]
  },
  {
   "cell_type": "code",
   "execution_count": 7,
   "id": "de23f137-24f8-47c6-8bef-1012f4d82dac",
   "metadata": {},
   "outputs": [],
   "source": [
    "# Drop ID column and separate features and target\n",
    "data.drop('ID', axis=1, inplace=True)\n",
    "X_original = data.drop('Diagnosis', axis=1)\n",
    "y_original = data['Diagnosis']"
   ]
  },
  {
   "cell_type": "markdown",
   "id": "d14d2712-d856-45ad-9790-cf062038b27e",
   "metadata": {},
   "source": [
    "### X_original contains only the features, and y_original contains the target values"
   ]
  },
  {
   "cell_type": "markdown",
   "id": "82dd8ca8-5fce-4885-9d7e-cb22ac4f6560",
   "metadata": {},
   "source": [
    "## Outlier Detection: Using IQR (Interquartile Range)\n",
    "\n",
    "#### calculate_outliers(df):\n",
    "#### Calculates outliers for each feature using the Interquartile Range (IQR) method.\n",
    "#### For each column, computes the lower and upper bounds, then counts values outside  those bounds.\n",
    "\n",
    "#### outliers_per_feature: \n",
    "#### Stores the number of outliers for each feature.\n",
    "\n",
    "#### Visualization: \n",
    "#### Plots a bar chart showing the number of outliers per feature."
   ]
  },
  {
   "cell_type": "code",
   "execution_count": 8,
   "id": "7d154574-1e66-47f0-8bbe-ead9ed9028f7",
   "metadata": {},
   "outputs": [
    {
     "name": "stdout",
     "output_type": "stream",
     "text": [
      "Outliers per feature:\n",
      " Feature_1     14\n",
      "Feature_2      7\n",
      "Feature_3     13\n",
      "Feature_4     25\n",
      "Feature_5      6\n",
      "Feature_6     16\n",
      "Feature_7     18\n",
      "Feature_8     10\n",
      "Feature_9     15\n",
      "Feature_10    15\n",
      "Feature_11    38\n",
      "Feature_12    20\n",
      "Feature_13    38\n",
      "Feature_14    65\n",
      "Feature_15    30\n",
      "Feature_16    28\n",
      "Feature_17    22\n",
      "Feature_18    19\n",
      "Feature_19    27\n",
      "Feature_20    28\n",
      "Feature_21    17\n",
      "Feature_22     5\n",
      "Feature_23    15\n",
      "Feature_24    35\n",
      "Feature_25     7\n",
      "Feature_26    16\n",
      "Feature_27    12\n",
      "Feature_28     0\n",
      "Feature_29    23\n",
      "Feature_30    24\n",
      "dtype: int64\n"
     ]
    },
    {
     "data": {
      "image/png": "[encoded data removed]",
      "text/plain": [
       "<Figure size 1200x600 with 1 Axes>"
      ]
     },
     "metadata": {},
     "output_type": "display_data"
    }
   ],
   "source": [
    "# Detect and store outliers\n",
    "def calculate_outliers(df):\n",
    "    outliers = {}\n",
    "    for column in df.columns:\n",
    "        Q1 = df[column].quantile(0.25)\n",
    "        Q3 = df[column].quantile(0.75)\n",
    "        IQR = Q3 - Q1\n",
    "        lower_bound = Q1 - 1.5 * IQR\n",
    "        upper_bound = Q3 + 1.5 * IQR\n",
    "        outliers[column] = ((df[column] < lower_bound) | (df[column] > upper_bound)).sum()\n",
    "    return pd.Series(outliers)\n",
    "\n",
    "outliers_per_feature = calculate_outliers(X_original)\n",
    "print(\"Outliers per feature:\\n\", outliers_per_feature)\n",
    "plt.figure(figsize=(12, 6))\n",
    "sns.barplot(x=outliers_per_feature.index, y=outliers_per_feature.values)\n",
    "plt.xticks(rotation=90)\n",
    "plt.title(\"Number of Outliers per Feature\")\n",
    "plt.xlabel(\"Features\")\n",
    "plt.ylabel(\"Number of Outliers\")\n",
    "plt.show()"
   ]
  },
  {
   "cell_type": "markdown",
   "id": "2a23e57b-3891-45c4-a605-6e439563f03b",
   "metadata": {},
   "source": [
    "#### The number of outliers for each feature is calculated and visualized.\n",
    "#### Features with higher counts of outliers can be identified via the bar chart"
   ]
  },
  {
   "cell_type": "markdown",
   "id": "4e958f57-8517-4bf9-a5c2-ccca1baae0bc",
   "metadata": {},
   "source": [
    "## Check for Misssing Values\n",
    "\n",
    "#### Missing Values: Identifies any missing values across the dataset\n",
    "#### value 0 means there are no missing values"
   ]
  },
  {
   "cell_type": "code",
   "execution_count": 9,
   "id": "3dd02548-43d1-4414-805e-9a467a7b5f3e",
   "metadata": {},
   "outputs": [
    {
     "name": "stdout",
     "output_type": "stream",
     "text": [
      "\n",
      "Missing Values:\n",
      "Diagnosis     0\n",
      "Feature_1     0\n",
      "Feature_2     0\n",
      "Feature_3     0\n",
      "Feature_4     0\n",
      "Feature_5     0\n",
      "Feature_6     0\n",
      "Feature_7     0\n",
      "Feature_8     0\n",
      "Feature_9     0\n",
      "Feature_10    0\n",
      "Feature_11    0\n",
      "Feature_12    0\n",
      "Feature_13    0\n",
      "Feature_14    0\n",
      "Feature_15    0\n",
      "Feature_16    0\n",
      "Feature_17    0\n",
      "Feature_18    0\n",
      "Feature_19    0\n",
      "Feature_20    0\n",
      "Feature_21    0\n",
      "Feature_22    0\n",
      "Feature_23    0\n",
      "Feature_24    0\n",
      "Feature_25    0\n",
      "Feature_26    0\n",
      "Feature_27    0\n",
      "Feature_28    0\n",
      "Feature_29    0\n",
      "Feature_30    0\n",
      "dtype: int64\n"
     ]
    }
   ],
   "source": [
    "print(\"\\nMissing Values:\")\n",
    "print(data.isnull().sum())"
   ]
  },
  {
   "cell_type": "markdown",
   "id": "6972fef6-104d-4a43-af31-900d4b1f71b9",
   "metadata": {},
   "source": [
    "## Checki for Duplicates\n",
    "#### Duplicate Check: Detects and counts duplicate rows and calculates their percentage"
   ]
  },
  {
   "cell_type": "code",
   "execution_count": 10,
   "id": "afe279ce-93b7-4661-9b8d-5e019ec91ec9",
   "metadata": {},
   "outputs": [
    {
     "name": "stdout",
     "output_type": "stream",
     "text": [
      "\n",
      "Number of Rows with Duplicates: 0\n",
      "Percentage of Duplicate Rows: 0.00%\n"
     ]
    }
   ],
   "source": [
    "num_total_rows = len(data)\n",
    "num_duplicate_rows = data.duplicated().sum()\n",
    "percentage_duplicates = (num_duplicate_rows / num_total_rows) * 100\n",
    "print(f\"\\nNumber of Rows with Duplicates: {num_duplicate_rows}\")\n",
    "print(f\"Percentage of Duplicate Rows: {percentage_duplicates:.2f}%\")"
   ]
  },
  {
   "cell_type": "markdown",
   "id": "a4af866d-e505-4c34-9227-e81fe622aef8",
   "metadata": {},
   "source": [
    "## Checking for unique values\n",
    "#### Unique Values: Displays the number of unique values in each column, useful for identifying categorical data."
   ]
  },
  {
   "cell_type": "code",
   "execution_count": 11,
   "id": "5ceda58c-9094-4664-8448-14a55d90dcc7",
   "metadata": {},
   "outputs": [
    {
     "name": "stdout",
     "output_type": "stream",
     "text": [
      "\n",
      "Unique Values in Each Column:\n",
      "Diagnosis       2\n",
      "Feature_1     456\n",
      "Feature_2     479\n",
      "Feature_3     522\n",
      "Feature_4     539\n",
      "Feature_5     474\n",
      "Feature_6     537\n",
      "Feature_7     537\n",
      "Feature_8     542\n",
      "Feature_9     432\n",
      "Feature_10    499\n",
      "Feature_11    540\n",
      "Feature_12    519\n",
      "Feature_13    533\n",
      "Feature_14    528\n",
      "Feature_15    547\n",
      "Feature_16    541\n",
      "Feature_17    533\n",
      "Feature_18    507\n",
      "Feature_19    498\n",
      "Feature_20    545\n",
      "Feature_21    457\n",
      "Feature_22    511\n",
      "Feature_23    514\n",
      "Feature_24    544\n",
      "Feature_25    411\n",
      "Feature_26    529\n",
      "Feature_27    539\n",
      "Feature_28    492\n",
      "Feature_29    500\n",
      "Feature_30    535\n",
      "dtype: int64\n"
     ]
    }
   ],
   "source": [
    "print(\"\\nUnique Values in Each Column:\")\n",
    "print(data.nunique())"
   ]
  },
  {
   "cell_type": "markdown",
   "id": "54075fd5-e6bb-4f4d-baca-04f1c123eb30",
   "metadata": {},
   "source": [
    "# Remove outliers\n",
    "\n",
    "#### remove_outliers(X, y):\n",
    "#### Removes outliers from the feature set (X) and target (y) based on the IQR method.\n",
    "#### For each column, calculates the lower and upper bounds, and creates a mask to keep only non-outlier rows.\n",
    "#### X_no_outliers, y_no_outliers: Stores the dataset after outlier removal"
   ]
  },
  {
   "cell_type": "code",
   "execution_count": 12,
   "id": "c4b27b1e-4ff0-4330-be9a-8cbe4cd1fa9f",
   "metadata": {},
   "outputs": [],
   "source": [
    "# Remove outliers\n",
    "def remove_outliers(X, y):\n",
    "    mask = pd.Series([True] * len(X))\n",
    "    for column in X.columns:\n",
    "        Q1 = X[column].quantile(0.25)\n",
    "        Q3 = X[column].quantile(0.75)\n",
    "        IQR = Q3 - Q1\n",
    "        lower_bound = Q1 - 1.5 * IQR\n",
    "        upper_bound = Q3 + 1.5 * IQR\n",
    "        mask &= (X[column] >= lower_bound) & (X[column] <= upper_bound)\n",
    "    return X[mask], y[mask]\n",
    "\n",
    "X_no_outliers, y_no_outliers = remove_outliers(X_original, y_original)"
   ]
  },
  {
   "cell_type": "markdown",
   "id": "2e879c59-672d-46f5-94c0-7ca9ca9fcd60",
   "metadata": {},
   "source": [
    "# Applying VIF to Reduce Features\n",
    "\n",
    "#### If dataset with features like Age, Salary, and Experience, this function will \n",
    "\n",
    "#### calculate how much each feature is explained by the others. If Age and Salary are\n",
    "\n",
    "#### highly correlated, their VIFs will be high, indicating multicollinearity.\n",
    "\n",
    "#### features with a VIF higher than a certain threshold (e.g., 10) are usually removed \n",
    "\n",
    "#### to reduce multicollinearity and improve the stability of the model"
   ]
  },
  {
   "cell_type": "code",
   "execution_count": 13,
   "id": "b682ac88-11ea-49b9-89ad-d0a7c84c2d93",
   "metadata": {},
   "outputs": [],
   "source": [
    "# Function to calculate VIF and drop features with high VIF\n",
    "def calculate_vif(X):\n",
    "    vif_data = pd.DataFrame()\n",
    "    vif_data[\"Feature\"] = X.columns\n",
    "    vif_data[\"VIF\"] = [variance_inflation_factor(X.values, i) for i in range(X.shape[1])]\n",
    "    return vif_data"
   ]
  },
  {
   "cell_type": "markdown",
   "id": "2d7afb6f-1b35-477c-9c51-ba1225d4a01c",
   "metadata": {},
   "source": [
    "## Remove features with VIF > 10\n",
    "#### This code iteratively calculates the VIF for each feature in the dataset. If any\n",
    "\n",
    "#### feature has a VIF greater than 10, it’s dropped, and the process repeats. The goal\n",
    "\n",
    "#### is to remove features causing multicollinearity to improve model stability."
   ]
  },
  {
   "cell_type": "code",
   "execution_count": 14,
   "id": "248ff899-4c4c-431e-8586-53c69ae897a6",
   "metadata": {},
   "outputs": [
    {
     "name": "stdout",
     "output_type": "stream",
     "text": [
      "Dropped feature 'Feature_1' due to high VIF\n",
      "Dropped feature 'Feature_21' due to high VIF\n",
      "Dropped feature 'Feature_3' due to high VIF\n",
      "Dropped feature 'Feature_23' due to high VIF\n",
      "Dropped feature 'Feature_10' due to high VIF\n",
      "Dropped feature 'Feature_25' due to high VIF\n",
      "Dropped feature 'Feature_22' due to high VIF\n",
      "Dropped feature 'Feature_30' due to high VIF\n",
      "Dropped feature 'Feature_29' due to high VIF\n",
      "Dropped feature 'Feature_7' due to high VIF\n",
      "Dropped feature 'Feature_11' due to high VIF\n",
      "Dropped feature 'Feature_28' due to high VIF\n",
      "Dropped feature 'Feature_5' due to high VIF\n",
      "Dropped feature 'Feature_6' due to high VIF\n",
      "Dropped feature 'Feature_4' due to high VIF\n",
      "Dropped feature 'Feature_26' due to high VIF\n",
      "Dropped feature 'Feature_13' due to high VIF\n",
      "Dropped feature 'Feature_9' due to high VIF\n",
      "Dropped feature 'Feature_2' due to high VIF\n",
      "Dropped feature 'Feature_18' due to high VIF\n",
      "Dropped feature 'Feature_16' due to high VIF\n",
      "Dropped feature 'Feature_24' due to high VIF\n",
      "Dropped feature 'Feature_8' due to high VIF\n"
     ]
    }
   ],
   "source": [
    "def drop_high_vif_features(X, threshold=10):\n",
    "    while True:\n",
    "        vif = calculate_vif(X)\n",
    "        if vif['VIF'].max() > threshold:\n",
    "            feature_to_drop = vif.loc[vif['VIF'].idxmax(), 'Feature']\n",
    "            X.drop(columns=[feature_to_drop], inplace=True)\n",
    "            print(f\"Dropped feature '{feature_to_drop}' due to high VIF\")\n",
    "        else:\n",
    "            break\n",
    "    return X\n",
    "\n",
    "X_vif = drop_high_vif_features(X_original.copy())"
   ]
  },
  {
   "cell_type": "markdown",
   "id": "91c710f3-0d26-4a14-8cfb-953392ad6b4b",
   "metadata": {},
   "source": [
    "## To store different data for different models"
   ]
  },
  {
   "cell_type": "code",
   "execution_count": 15,
   "id": "97102f54-b9e7-4654-86e4-eb6fcb62a4fb",
   "metadata": {},
   "outputs": [],
   "source": [
    "# Scenarios\n",
    "scenarios = {}\n"
   ]
  },
  {
   "cell_type": "markdown",
   "id": "6a35f279-8d81-440d-98ff-d92460e9a2b8",
   "metadata": {},
   "source": [
    "# With Outliers, Without SMOTE"
   ]
  },
  {
   "cell_type": "code",
   "execution_count": 16,
   "id": "16215677-800e-4514-8675-6326e9e4316c",
   "metadata": {},
   "outputs": [],
   "source": [
    "# Scenario 1: With Outliers, Without SMOTE\n",
    "X1 = X_vif.copy()\n",
    "y1 = y_original.copy()"
   ]
  },
  {
   "cell_type": "markdown",
   "id": "9b564abd-8477-47f1-a030-7c92dd507121",
   "metadata": {},
   "source": [
    "# With Outliers, With SMOTE"
   ]
  },
  {
   "cell_type": "code",
   "execution_count": 17,
   "id": "f7ab9d5b-3cb8-4458-bf89-722d5d8fed4c",
   "metadata": {},
   "outputs": [],
   "source": [
    "# Scenario 2: With Outliers, With SMOTE\n",
    "smote = SMOTE(random_state=42)\n",
    "X2, y2 = smote.fit_resample(X_vif, y_original)"
   ]
  },
  {
   "cell_type": "markdown",
   "id": "343b944e-6a6d-4a6d-8137-c5b7c3029baa",
   "metadata": {},
   "source": [
    "# Without Outliers, Without SMOTE"
   ]
  },
  {
   "cell_type": "code",
   "execution_count": 18,
   "id": "11a4ec08-7a12-4c33-bac0-7223f7cde1e8",
   "metadata": {},
   "outputs": [
    {
     "name": "stdout",
     "output_type": "stream",
     "text": [
      "Dropped feature 'Feature_1' due to high VIF\n",
      "Dropped feature 'Feature_3' due to high VIF\n",
      "Dropped feature 'Feature_23' due to high VIF\n",
      "Dropped feature 'Feature_21' due to high VIF\n",
      "Dropped feature 'Feature_30' due to high VIF\n",
      "Dropped feature 'Feature_22' due to high VIF\n",
      "Dropped feature 'Feature_25' due to high VIF\n",
      "Dropped feature 'Feature_24' due to high VIF\n",
      "Dropped feature 'Feature_10' due to high VIF\n",
      "Dropped feature 'Feature_29' due to high VIF\n",
      "Dropped feature 'Feature_11' due to high VIF\n",
      "Dropped feature 'Feature_5' due to high VIF\n",
      "Dropped feature 'Feature_26' due to high VIF\n",
      "Dropped feature 'Feature_8' due to high VIF\n",
      "Dropped feature 'Feature_28' due to high VIF\n",
      "Dropped feature 'Feature_13' due to high VIF\n",
      "Dropped feature 'Feature_9' due to high VIF\n",
      "Dropped feature 'Feature_6' due to high VIF\n",
      "Dropped feature 'Feature_2' due to high VIF\n",
      "Dropped feature 'Feature_16' due to high VIF\n",
      "Dropped feature 'Feature_27' due to high VIF\n",
      "Dropped feature 'Feature_18' due to high VIF\n",
      "Dropped feature 'Feature_19' due to high VIF\n",
      "Dropped feature 'Feature_4' due to high VIF\n",
      "Dropped feature 'Feature_15' due to high VIF\n",
      "Dropped feature 'Feature_17' due to high VIF\n"
     ]
    }
   ],
   "source": [
    "# Scenario 3: Without Outliers, Without SMOTE\n",
    "X3 = drop_high_vif_features(X_no_outliers.copy())  # Process X only\n",
    "y3 = y_no_outliers.copy()  # Use the corresponding y without outliers\n",
    "y3.reset_index(drop=True, inplace=True)  # Ensure indices are aligned with X3"
   ]
  },
  {
   "cell_type": "markdown",
   "id": "0c394ad3-fc02-44d2-ba83-991d7582507a",
   "metadata": {},
   "source": [
    "# Without Outliers, With SMOTE"
   ]
  },
  {
   "cell_type": "code",
   "execution_count": 19,
   "id": "6666451a-21ed-4fc2-b5bd-90eedc301e8c",
   "metadata": {},
   "outputs": [],
   "source": [
    "# Scenario 4: Without Outliers, With SMOTE\n",
    "X4, y4 = smote.fit_resample(X3, y3)"
   ]
  },
  {
   "cell_type": "markdown",
   "id": "99f53a08-e31e-44e6-867a-33d55926baf9",
   "metadata": {},
   "source": [
    "# Visualize class distribution before and after SMOTE"
   ]
  },
  {
   "cell_type": "code",
   "execution_count": 22,
   "id": "5f36e647-2eba-4ddb-adf5-ad0f7262e385",
   "metadata": {},
   "outputs": [
    {
     "data": {
      "image/png": "[encoded data removed]",
      "text/plain": [
       "<Figure size 640x480 with 1 Axes>"
      ]
     },
     "metadata": {},
     "output_type": "display_data"
    },
    {
     "data": {
      "image/png": "[encoded data removed]",
      "text/plain": [
       "<Figure size 640x480 with 1 Axes>"
      ]
     },
     "metadata": {},
     "output_type": "display_data"
    }
   ],
   "source": [
    "# Visualize class distribution\n",
    "def plot_class_distribution(y, title):\n",
    "    sns.countplot(x=y)\n",
    "    plt.title(title)\n",
    "    plt.xlabel(\"Classes\")\n",
    "    plt.ylabel(\"Count\")\n",
    "    plt.show()\n",
    "\n",
    "# Before SMOTE\n",
    "plot_class_distribution(y_original, \"Class Distribution Before SMOTE\")\n",
    "\n",
    "# After SMOTE\n",
    "_, y_with_outliers_with_smote = scenarios['With_Outliers_With_SMOTE']\n",
    "plot_class_distribution(y_with_outliers_with_smote, \"Class Distribution After SMOTE\")\n"
   ]
  },
  {
   "cell_type": "markdown",
   "id": "12f6f158-dc86-4178-bdb4-2851bbd45836",
   "metadata": {},
   "source": [
    "# Scaling Features\n",
    "\n",
    "#### scaler = StandardScaler(): Initializes a scaler to standardize features.\n",
    "#### Scaling Applied:\n",
    "#### Standardizes all X datasets in different scenarios to have mean 0 and standard deviation 1.\n",
    "#### Stores the scaled features and corresponding target (y) for each scenario in the scenarios dictionary."
   ]
  },
  {
   "cell_type": "code",
   "execution_count": 23,
   "id": "5ff8b605-db1d-4b40-ae69-415ce06088a2",
   "metadata": {},
   "outputs": [],
   "source": [
    "# Scaling\n",
    "scaler = StandardScaler()\n",
    "scenarios['With_Outliers_No_SMOTE'] = (scaler.fit_transform(X1), y1)\n",
    "scenarios['With_Outliers_With_SMOTE'] = (scaler.fit_transform(X2), y2)\n",
    "scenarios['Without_Outliers_No_SMOTE'] = (scaler.fit_transform(X3), y3)\n",
    "scenarios['Without_Outliers_With_SMOTE'] = (scaler.fit_transform(X4), y4)"
   ]
  },
  {
   "cell_type": "markdown",
   "id": "5cfedde7-7da7-43a4-a547-2c45e493927a",
   "metadata": {},
   "source": [
    "# Milestone 2"
   ]
  },
  {
   "cell_type": "markdown",
   "id": "e3e18a07-2f5c-46dc-ae35-3a3deb657608",
   "metadata": {},
   "source": [
    "# Model Training\n",
    "\n",
    "#### This function evaluates the performance of the model for different scenarios and \n",
    "\n",
    "#### provides a detailed comparison of metrics."
   ]
  },
  {
   "cell_type": "code",
   "execution_count": 24,
   "id": "d971c68e-be77-46c5-9346-b0b01f1ea0ff",
   "metadata": {},
   "outputs": [],
   "source": [
    "# Model Training and Evaluation\n",
    "def evaluate_model(X, y, scenario_name):\n",
    "    X_train, X_test, y_train, y_test = train_test_split(X, y, test_size=0.3, random_state=42)\n",
    "    model = AdaBoostClassifier(estimator=RandomForestClassifier(n_estimators=100, random_state=42), random_state=42)\n",
    "    model.fit(X_train, y_train)\n",
    "    y_pred = model.predict(X_test)\n",
    "    metrics = {\n",
    "        \"Accuracy\": accuracy_score(y_test, y_pred),\n",
    "        \"Precision\": precision_score(y_test, y_pred, pos_label='M'),\n",
    "        \"Recall\": recall_score(y_test, y_pred, pos_label='M'),\n",
    "        \"F1 Score\": f1_score(y_test, y_pred, pos_label='M'),\n",
    "        \"Confusion Matrix\": confusion_matrix(y_test, y_pred)\n",
    "    }\n",
    "    print(f\"\\nMetrics for {scenario_name}:\")\n",
    "    for key, value in metrics.items():\n",
    "        print(f\"{key}: {value}\")"
   ]
  },
  {
   "cell_type": "markdown",
   "id": "38228702-776e-43b1-b4df-312b0acfdc49",
   "metadata": {},
   "source": [
    "# Evaluate all scenarios"
   ]
  },
  {
   "cell_type": "code",
   "execution_count": 25,
   "id": "c3841105-8a20-4fd0-9073-f197e6504c5d",
   "metadata": {},
   "outputs": [
    {
     "name": "stdout",
     "output_type": "stream",
     "text": [
      "\n",
      "Metrics for With_Outliers_No_SMOTE:\n",
      "Accuracy: 0.935672514619883\n",
      "Precision: 0.90625\n",
      "Recall: 0.9206349206349206\n",
      "F1 Score: 0.9133858267716536\n",
      "Confusion Matrix: [[102   6]\n",
      " [  5  58]]\n",
      "\n",
      "Metrics for With_Outliers_With_SMOTE:\n",
      "Accuracy: 0.9720930232558139\n",
      "Precision: 0.9705882352941176\n",
      "Recall: 0.9705882352941176\n",
      "F1 Score: 0.9705882352941176\n",
      "Confusion Matrix: [[110   3]\n",
      " [  3  99]]\n",
      "\n",
      "Metrics for Without_Outliers_No_SMOTE:\n",
      "Accuracy: 0.9\n",
      "Precision: 0.8928571428571429\n",
      "Recall: 0.7352941176470589\n",
      "F1 Score: 0.806451612903226\n",
      "Confusion Matrix: [[83  3]\n",
      " [ 9 25]]\n",
      "\n",
      "Metrics for Without_Outliers_With_SMOTE:\n",
      "Accuracy: 0.9333333333333333\n",
      "Precision: 0.95\n",
      "Recall: 0.9313725490196079\n",
      "F1 Score: 0.9405940594059405\n",
      "Confusion Matrix: [[73  5]\n",
      " [ 7 95]]\n"
     ]
    }
   ],
   "source": [
    "# Evaluate all scenarios\n",
    "for scenario_name, (X_scaled, y) in scenarios.items():\n",
    "    evaluate_model(X_scaled, y, scenario_name)"
   ]
  },
  {
   "cell_type": "markdown",
   "id": "640f73f6-f735-435c-9317-501aa01e23b1",
   "metadata": {},
   "source": [
    "## I observed that Metrics for With_Outliers_With_SMOTE has more than other metrics \n",
    "\n",
    "## so selecting With_Outliers_With_SMOTE for model"
   ]
  },
  {
   "cell_type": "markdown",
   "id": "7271471e-571c-47b2-9e9b-6c09a39f3648",
   "metadata": {},
   "source": [
    "# Splitting the data and Define AdaBoost\n",
    "\n",
    "#### Split the Data:train_test_split divides the scaled feature data (X_scaled) and the \n",
    "\n",
    "#### target data (y) into training (70%) and testing (30%) sets.\n",
    "\n"
   ]
  },
  {
   "cell_type": "code",
   "execution_count": 26,
   "id": "8f418ec8-e605-42fc-a6f4-59ca44c71c1d",
   "metadata": {},
   "outputs": [],
   "source": [
    "# Prepare data for \"With Outliers and With SMOTE\"\n",
    "X_with_outliers_with_smote, y_with_outliers_with_smote = scenarios['With_Outliers_With_SMOTE']\n",
    "X_train_smote, X_test_smote, y_train_smote, y_test_smote = train_test_split(\n",
    "    X_with_outliers_with_smote, y_with_outliers_with_smote, test_size=0.3, random_state=42\n",
    ")\n",
    "\n",
    "# Define the AdaBoostClassifier with a base RandomForestClassifier\n",
    "base_classifier = RandomForestClassifier(n_estimators=100, random_state=42)\n",
    "ada_boost_smote = AdaBoostClassifier(estimator=base_classifier, random_state=42)"
   ]
  },
  {
   "cell_type": "markdown",
   "id": "1ae99f88-fca7-4399-8719-e0bef2710f6f",
   "metadata": {},
   "source": [
    "# Milestone 3\n",
    "\n",
    "# Grid Search to find the best combination of hyperparameters\n",
    "\n",
    "#### This code searches for the best settings for an AdaBoost model.\n",
    "\n",
    "#### Parameters to Test: It tries different values for:\n",
    "      Number of trees (n_estimators)\n",
    "      Step size (learning_rate)\n",
    "      Boosting type (algorithm)\n",
    "     \n",
    "#### Grid Search: It uses GridSearchCV to test all combinations of these settings.\n",
    "\n",
    "#### Best Settings: It finds and prints the best settings for highest accuracy."
   ]
  },
  {
   "cell_type": "code",
   "execution_count": 27,
   "id": "a35eaae6-ec61-4fdd-9823-deb27002008c",
   "metadata": {},
   "outputs": [
    {
     "name": "stdout",
     "output_type": "stream",
     "text": [
      "Fitting 5 folds for each of 32 candidates, totalling 160 fits\n",
      "\n",
      "Best Hyperparameters (With Outliers, With SMOTE): {'algorithm': 'SAMME', 'learning_rate': 0.01, 'n_estimators': 50}\n"
     ]
    }
   ],
   "source": [
    "# Define the hyperparameter grid\n",
    "from sklearn.model_selection import GridSearchCV\n",
    "\n",
    "param_grid_smote = {\n",
    "    'n_estimators': [50, 100, 150, 200],\n",
    "    'learning_rate': [0.01, 0.1, 0.5, 1.0],\n",
    "    'algorithm': ['SAMME', 'SAMME.R'],\n",
    "}\n",
    "\n",
    "# Perform hyperparameter tuning with GridSearchCV\n",
    "grid_search_smote = GridSearchCV(\n",
    "    estimator=ada_boost_smote,\n",
    "    param_grid=param_grid_smote,\n",
    "    cv=5,\n",
    "    n_jobs=-1,\n",
    "    verbose=1,\n",
    "    scoring='accuracy'\n",
    ")\n",
    "grid_search_smote.fit(X_train_smote, y_train_smote)\n",
    "\n",
    "# Get the best hyperparameters\n",
    "best_params_smote = grid_search_smote.best_params_\n",
    "print(f\"\\nBest Hyperparameters (With Outliers, With SMOTE): {best_params_smote}\")"
   ]
  },
  {
   "cell_type": "markdown",
   "id": "96b1a376-e521-403a-894f-98f50bb5e325",
   "metadata": {},
   "source": [
    "# Re-evaluating the Tuned Model"
   ]
  },
  {
   "cell_type": "code",
   "execution_count": 28,
   "id": "8b45e857-b36b-4c31-8783-5fa2df53adb0",
   "metadata": {},
   "outputs": [
    {
     "name": "stdout",
     "output_type": "stream",
     "text": [
      "\n",
      "Tuned Model Performance Metrics (With Outliers, With SMOTE):\n",
      "Accuracy: 0.97\n",
      "Precision: 0.97\n",
      "Recall: 0.97\n",
      "F1 Score: 0.97\n",
      "\n",
      "Confusion Matrix for Tuned Model (With Outliers, With SMOTE):\n",
      "[[110   3]\n",
      " [  3  99]]\n"
     ]
    }
   ],
   "source": [
    "# Evaluate the best model found from GridSearchCV\n",
    "best_model_smote = grid_search_smote.best_estimator_\n",
    "y_pred_smote_tuned = best_model_smote.predict(X_test_smote)\n",
    "\n",
    "# Calculate performance metrics for the tuned model\n",
    "accuracy_smote_tuned = accuracy_score(y_test_smote, y_pred_smote_tuned)\n",
    "precision_smote_tuned = precision_score(y_test_smote, y_pred_smote_tuned, pos_label='M')\n",
    "recall_smote_tuned = recall_score(y_test_smote, y_pred_smote_tuned, pos_label='M')\n",
    "f1_smote_tuned = f1_score(y_test_smote, y_pred_smote_tuned, pos_label='M')\n",
    "conf_matrix_smote_tuned = confusion_matrix(y_test_smote, y_pred_smote_tuned)\n",
    "\n",
    "# Print tuned model performance metrics\n",
    "print(\"\\nTuned Model Performance Metrics (With Outliers, With SMOTE):\")\n",
    "print(f\"Accuracy: {accuracy_smote_tuned:.2f}\")\n",
    "print(f\"Precision: {precision_smote_tuned:.2f}\")\n",
    "print(f\"Recall: {recall_smote_tuned:.2f}\")\n",
    "print(f\"F1 Score: {f1_smote_tuned:.2f}\")\n",
    "print(\"\\nConfusion Matrix for Tuned Model (With Outliers, With SMOTE):\")\n",
    "print(conf_matrix_smote_tuned)"
   ]
  },
  {
   "cell_type": "markdown",
   "id": "fbf0c107-f4b2-49af-88ed-2a4d87016b37",
   "metadata": {},
   "source": [
    "# Milestone 4\n",
    "\n",
    "## Visualization and Interpretation of Results Learning\n",
    "\n",
    "# Confusion Matrix"
   ]
  },
  {
   "cell_type": "code",
   "execution_count": 29,
   "id": "d59fe423-3758-4bc2-af0c-1ba3fdbb7833",
   "metadata": {},
   "outputs": [
    {
     "data": {
      "image/png": "[encoded data removed]",
      "text/plain": [
       "<Figure size 640x480 with 2 Axes>"
      ]
     },
     "metadata": {},
     "output_type": "display_data"
    }
   ],
   "source": [
    "from sklearn.metrics import confusion_matrix, ConfusionMatrixDisplay\n",
    "\n",
    "# Confusion matrix\n",
    "conf_matrix_smote_tuned = confusion_matrix(y_test_smote, y_pred_smote_tuned)\n",
    "disp = ConfusionMatrixDisplay(confusion_matrix=conf_matrix_smote_tuned, display_labels=best_model_smote.classes_)\n",
    "disp.plot(cmap='Blues')\n",
    "plt.title(\"Confusion Matrix (Tuned Model)\")\n",
    "plt.show()\n"
   ]
  },
  {
   "cell_type": "markdown",
   "id": "20f7228a-cd13-4bb9-a828-4fd7e44ef878",
   "metadata": {},
   "source": [
    "# ROC curve and AUC"
   ]
  },
  {
   "cell_type": "code",
   "execution_count": 30,
   "id": "cf77556f-d4be-4725-b86a-8a26539d85a1",
   "metadata": {},
   "outputs": [
    {
     "data": {
      "image/png": "[encoded data removed]",
      "text/plain": [
       "<Figure size 800x600 with 1 Axes>"
      ]
     },
     "metadata": {},
     "output_type": "display_data"
    }
   ],
   "source": [
    "from sklearn.metrics import roc_curve, roc_auc_score\n",
    "\n",
    "# Get probabilities for ROC curve\n",
    "y_prob_smote_tuned = best_model_smote.predict_proba(X_test_smote)[:, 1]  # Probability of positive class\n",
    "\n",
    "# Compute ROC curve and AUC\n",
    "fpr, tpr, thresholds = roc_curve(y_test_smote, y_prob_smote_tuned, pos_label='M')\n",
    "roc_auc = roc_auc_score(y_test_smote, y_prob_smote_tuned)\n",
    "\n",
    "# Plot ROC curve\n",
    "plt.figure(figsize=(8, 6))\n",
    "plt.plot(fpr, tpr, label=f\"AUC = {roc_auc:.2f}\")\n",
    "plt.plot([0, 1], [0, 1], 'k--', label=\"Random Guess\")\n",
    "plt.title(\"ROC Curve (Tuned Model)\")\n",
    "plt.xlabel(\"False Positive Rate\")\n",
    "plt.ylabel(\"True Positive Rate\")\n",
    "plt.legend(loc=\"lower right\")\n",
    "plt.grid()\n",
    "plt.show()\n"
   ]
  },
  {
   "cell_type": "markdown",
   "id": "a9333911-ad5a-48b2-9c60-154c31f946cc",
   "metadata": {},
   "source": [
    "# Feature importance"
   ]
  },
  {
   "cell_type": "code",
   "execution_count": 32,
   "id": "8f07063f-7cb8-4dff-826e-16d13c392c83",
   "metadata": {},
   "outputs": [
    {
     "data": {
      "image/png": "[encoded data removed]",
      "text/plain": [
       "<Figure size 1200x600 with 1 Axes>"
      ]
     },
     "metadata": {},
     "output_type": "display_data"
    }
   ],
   "source": [
    "# Get feature importances from AdaBoostClassifier\n",
    "feature_importances = best_model_smote.feature_importances_\n",
    "\n",
    "# Plot feature importances\n",
    "def plot_feature_importances(importances, feature_names, title):\n",
    "    importance_df = pd.DataFrame({\n",
    "        \"Feature\": feature_names,\n",
    "        \"Importance\": importances\n",
    "    }).sort_values(by=\"Importance\", ascending=False)\n",
    "    \n",
    "    plt.figure(figsize=(12, 6))\n",
    "    sns.barplot(x=importance_df[\"Importance\"], y=importance_df[\"Feature\"])\n",
    "    plt.title(title)\n",
    "    plt.xlabel(\"Importance\")\n",
    "    plt.ylabel(\"Features\")\n",
    "    plt.show()\n",
    "\n",
    "plot_feature_importances(\n",
    "    feature_importances, \n",
    "    X_vif.columns, \n",
    "    \"Feature Importances from Best AdaBoost Model\"\n",
    ")\n"
   ]
  },
  {
   "cell_type": "code",
   "execution_count": 36,
   "id": "0e119161-8de7-4180-891a-5615c5819791",
   "metadata": {},
   "outputs": [
    {
     "name": "stdout",
     "output_type": "stream",
     "text": [
      "Model and scaler saved successfully.\n"
     ]
    }
   ],
   "source": [
    "import pickle\n",
    "scaler.fit(X2)\n",
    "# Save the trained model\n",
    "with open('model.pkl', 'wb') as model_file:\n",
    "    pickle.dump(best_model_smote, model_file)\n",
    "\n",
    "with open('scaler.pkl', 'wb') as scaler_file:\n",
    "    pickle.dump(scaler, scaler_file)\n",
    "\n",
    "print(\"Model and scaler saved successfully.\")\n"
   ]
  },
  {
   "cell_type": "code",
   "execution_count": null,
   "id": "834697f5-dc7d-4bd0-8393-72a198ec2abe",
   "metadata": {},
   "outputs": [],
   "source": []
  }
 ],
 "metadata": {
  "kernelspec": {
   "display_name": "Python 3 (ipykernel)",
   "language": "python",
   "name": "python3"
  },
  "language_info": {
   "codemirror_mode": {
    "name": "ipython",
    "version": 3
   },
   "file_extension": ".py",
   "mimetype": "text/x-python",
   "name": "python",
   "nbconvert_exporter": "python",
   "pygments_lexer": "ipython3",
   "version": "3.11.7"
  }
 },
 "nbformat": 4,
 "nbformat_minor": 5
}
