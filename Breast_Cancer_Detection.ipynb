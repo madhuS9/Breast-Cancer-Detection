{
 "cells": [
  {
   "cell_type": "markdown",
   "id": "0da06cbd-3c1e-4729-a738-04e1fc039c19",
   "metadata": {},
   "source": [
    "## Import Libraries"
   ]
  },
  {
   "cell_type": "markdown",
   "id": "e1b1e6aa-9738-4a8c-9414-502fe9422d0c",
   "metadata": {},
   "source": [
    "### The necessary libraries for data manipulation, visualization, and calculation are imported."
   ]
  },
  {
   "cell_type": "code",
   "execution_count": 31,
   "id": "7bd25ca2-c58b-4532-871a-411710de8452",
   "metadata": {},
   "outputs": [
    {
     "name": "stdout",
     "output_type": "stream",
     "text": [
      "         ID Diagnosis  Feature_1  Feature_2  Feature_3  Feature_4  Feature_5  \\\n",
      "0    842302         M      17.99      10.38     122.80     1001.0    0.11840   \n",
      "1    842517         M      20.57      17.77     132.90     1326.0    0.08474   \n",
      "2  84300903         M      19.69      21.25     130.00     1203.0    0.10960   \n",
      "3  84348301         M      11.42      20.38      77.58      386.1    0.14250   \n",
      "4  84358402         M      20.29      14.34     135.10     1297.0    0.10030   \n",
      "5    843786         M      12.45      15.70      82.57      477.1    0.12780   \n",
      "6    844359         M      18.25      19.98     119.60     1040.0    0.09463   \n",
      "7  84458202         M      13.71      20.83      90.20      577.9    0.11890   \n",
      "8    844981         M      13.00      21.82      87.50      519.8    0.12730   \n",
      "9  84501001         M      12.46      24.04      83.97      475.9    0.11860   \n",
      "\n",
      "   Feature_6  Feature_7  Feature_8  ...  Feature_21  Feature_22  Feature_23  \\\n",
      "0    0.27760    0.30010    0.14710  ...       25.38       17.33      184.60   \n",
      "1    0.07864    0.08690    0.07017  ...       24.99       23.41      158.80   \n",
      "2    0.15990    0.19740    0.12790  ...       23.57       25.53      152.50   \n",
      "3    0.28390    0.24140    0.10520  ...       14.91       26.50       98.87   \n",
      "4    0.13280    0.19800    0.10430  ...       22.54       16.67      152.20   \n",
      "5    0.17000    0.15780    0.08089  ...       15.47       23.75      103.40   \n",
      "6    0.10900    0.11270    0.07400  ...       22.88       27.66      153.20   \n",
      "7    0.16450    0.09366    0.05985  ...       17.06       28.14      110.60   \n",
      "8    0.19320    0.18590    0.09353  ...       15.49       30.73      106.20   \n",
      "9    0.23960    0.22730    0.08543  ...       15.09       40.68       97.65   \n",
      "\n",
      "   Feature_24  Feature_25  Feature_26  Feature_27  Feature_28  Feature_29  \\\n",
      "0      2019.0      0.1622      0.6656      0.7119      0.2654      0.4601   \n",
      "1      1956.0      0.1238      0.1866      0.2416      0.1860      0.2750   \n",
      "2      1709.0      0.1444      0.4245      0.4504      0.2430      0.3613   \n",
      "3       567.7      0.2098      0.8663      0.6869      0.2575      0.6638   \n",
      "4      1575.0      0.1374      0.2050      0.4000      0.1625      0.2364   \n",
      "5       741.6      0.1791      0.5249      0.5355      0.1741      0.3985   \n",
      "6      1606.0      0.1442      0.2576      0.3784      0.1932      0.3063   \n",
      "7       897.0      0.1654      0.3682      0.2678      0.1556      0.3196   \n",
      "8       739.3      0.1703      0.5401      0.5390      0.2060      0.4378   \n",
      "9       711.4      0.1853      1.0580      1.1050      0.2210      0.4366   \n",
      "\n",
      "   Feature_30  \n",
      "0     0.11890  \n",
      "1     0.08902  \n",
      "2     0.08758  \n",
      "3     0.17300  \n",
      "4     0.07678  \n",
      "5     0.12440  \n",
      "6     0.08368  \n",
      "7     0.11510  \n",
      "8     0.10720  \n",
      "9     0.20750  \n",
      "\n",
      "[10 rows x 32 columns]\n"
     ]
    }
   ],
   "source": [
    "import pandas as pd\n",
    "import numpy as np\n",
    "from sklearn.preprocessing import StandardScaler\n",
    "from sklearn.ensemble import AdaBoostClassifier\n",
    "from sklearn.tree import DecisionTreeClassifier\n",
    "from sklearn.model_selection import train_test_split\n",
    "from sklearn.metrics import accuracy_score, precision_score, recall_score, confusion_matrix\n",
    "import seaborn as sns\n",
    "import matplotlib.pyplot as plt\n",
    "\n",
    "# Load the dataset\n",
    "columns = ['ID', 'Diagnosis'] + [f'Feature_{i}' for i in range(1, 31)]\n",
    "data = pd.read_csv('wdbc.data', header=None, names=columns)\n",
    "\n",
    "# Show the first 5 rows\n",
    "print(data.head(10))"
   ]
  },
  {
   "cell_type": "markdown",
   "id": "7e87d259-25f5-49f0-8d5c-62fda2dde055",
   "metadata": {},
   "source": [
    "## Inspecting the data"
   ]
  },
  {
   "cell_type": "markdown",
   "id": "cdb4a560-1552-475e-9fec-667b47f7b76d",
   "metadata": {},
   "source": [
    "### data.taile() Shows the last few rows to see how the data ends"
   ]
  },
  {
   "cell_type": "code",
   "execution_count": 32,
   "id": "79f46daa-40a0-43c1-98be-83152bd8f305",
   "metadata": {},
   "outputs": [
    {
     "name": "stdout",
     "output_type": "stream",
     "text": [
      "         ID Diagnosis  Feature_1  Feature_2  Feature_3  Feature_4  Feature_5  \\\n",
      "559  925291         B      11.51      23.93      74.52      403.5    0.09261   \n",
      "560  925292         B      14.05      27.15      91.38      600.4    0.09929   \n",
      "561  925311         B      11.20      29.37      70.67      386.0    0.07449   \n",
      "562  925622         M      15.22      30.62     103.40      716.9    0.10480   \n",
      "563  926125         M      20.92      25.09     143.00     1347.0    0.10990   \n",
      "564  926424         M      21.56      22.39     142.00     1479.0    0.11100   \n",
      "565  926682         M      20.13      28.25     131.20     1261.0    0.09780   \n",
      "566  926954         M      16.60      28.08     108.30      858.1    0.08455   \n",
      "567  927241         M      20.60      29.33     140.10     1265.0    0.11780   \n",
      "568   92751         B       7.76      24.54      47.92      181.0    0.05263   \n",
      "\n",
      "     Feature_6  Feature_7  Feature_8  ...  Feature_21  Feature_22  Feature_23  \\\n",
      "559    0.10210    0.11120    0.04105  ...      12.480       37.16       82.28   \n",
      "560    0.11260    0.04462    0.04304  ...      15.300       33.17      100.20   \n",
      "561    0.03558    0.00000    0.00000  ...      11.920       38.30       75.19   \n",
      "562    0.20870    0.25500    0.09429  ...      17.520       42.79      128.70   \n",
      "563    0.22360    0.31740    0.14740  ...      24.290       29.41      179.10   \n",
      "564    0.11590    0.24390    0.13890  ...      25.450       26.40      166.10   \n",
      "565    0.10340    0.14400    0.09791  ...      23.690       38.25      155.00   \n",
      "566    0.10230    0.09251    0.05302  ...      18.980       34.12      126.70   \n",
      "567    0.27700    0.35140    0.15200  ...      25.740       39.42      184.60   \n",
      "568    0.04362    0.00000    0.00000  ...       9.456       30.37       59.16   \n",
      "\n",
      "     Feature_24  Feature_25  Feature_26  Feature_27  Feature_28  Feature_29  \\\n",
      "559       474.2     0.12980     0.25170      0.3630     0.09653      0.2112   \n",
      "560       706.7     0.12410     0.22640      0.1326     0.10480      0.2250   \n",
      "561       439.6     0.09267     0.05494      0.0000     0.00000      0.1566   \n",
      "562       915.0     0.14170     0.79170      1.1700     0.23560      0.4089   \n",
      "563      1819.0     0.14070     0.41860      0.6599     0.25420      0.2929   \n",
      "564      2027.0     0.14100     0.21130      0.4107     0.22160      0.2060   \n",
      "565      1731.0     0.11660     0.19220      0.3215     0.16280      0.2572   \n",
      "566      1124.0     0.11390     0.30940      0.3403     0.14180      0.2218   \n",
      "567      1821.0     0.16500     0.86810      0.9387     0.26500      0.4087   \n",
      "568       268.6     0.08996     0.06444      0.0000     0.00000      0.2871   \n",
      "\n",
      "     Feature_30  \n",
      "559     0.08732  \n",
      "560     0.08321  \n",
      "561     0.05905  \n",
      "562     0.14090  \n",
      "563     0.09873  \n",
      "564     0.07115  \n",
      "565     0.06637  \n",
      "566     0.07820  \n",
      "567     0.12400  \n",
      "568     0.07039  \n",
      "\n",
      "[10 rows x 32 columns]\n"
     ]
    }
   ],
   "source": [
    "print(data.tail(10))"
   ]
  },
  {
   "cell_type": "markdown",
   "id": "eb288f38-5e9f-4220-b408-4959e977c62d",
   "metadata": {},
   "source": [
    "### Shape of the Dataset: Provides the number of rows and columns, giving an idea of the dataset size"
   ]
  },
  {
   "cell_type": "code",
   "execution_count": 33,
   "id": "2129bce3-ca6b-42d4-9da3-57b999c63caa",
   "metadata": {},
   "outputs": [
    {
     "data": {
      "text/plain": [
       "(569, 32)"
      ]
     },
     "execution_count": 33,
     "metadata": {},
     "output_type": "execute_result"
    }
   ],
   "source": [
    "data.shape"
   ]
  },
  {
   "cell_type": "markdown",
   "id": "902018f6-8923-44ab-90d0-c642184630a6",
   "metadata": {},
   "source": [
    "### Information of the Dataset: Shows details about the data types and the presence of null values"
   ]
  },
  {
   "cell_type": "code",
   "execution_count": 34,
   "id": "b7c66c33-eddd-4bce-b472-c16368d37f67",
   "metadata": {},
   "outputs": [
    {
     "name": "stdout",
     "output_type": "stream",
     "text": [
      "<class 'pandas.core.frame.DataFrame'>\n",
      "RangeIndex: 569 entries, 0 to 568\n",
      "Data columns (total 32 columns):\n",
      " #   Column      Non-Null Count  Dtype  \n",
      "---  ------      --------------  -----  \n",
      " 0   ID          569 non-null    int64  \n",
      " 1   Diagnosis   569 non-null    object \n",
      " 2   Feature_1   569 non-null    float64\n",
      " 3   Feature_2   569 non-null    float64\n",
      " 4   Feature_3   569 non-null    float64\n",
      " 5   Feature_4   569 non-null    float64\n",
      " 6   Feature_5   569 non-null    float64\n",
      " 7   Feature_6   569 non-null    float64\n",
      " 8   Feature_7   569 non-null    float64\n",
      " 9   Feature_8   569 non-null    float64\n",
      " 10  Feature_9   569 non-null    float64\n",
      " 11  Feature_10  569 non-null    float64\n",
      " 12  Feature_11  569 non-null    float64\n",
      " 13  Feature_12  569 non-null    float64\n",
      " 14  Feature_13  569 non-null    float64\n",
      " 15  Feature_14  569 non-null    float64\n",
      " 16  Feature_15  569 non-null    float64\n",
      " 17  Feature_16  569 non-null    float64\n",
      " 18  Feature_17  569 non-null    float64\n",
      " 19  Feature_18  569 non-null    float64\n",
      " 20  Feature_19  569 non-null    float64\n",
      " 21  Feature_20  569 non-null    float64\n",
      " 22  Feature_21  569 non-null    float64\n",
      " 23  Feature_22  569 non-null    float64\n",
      " 24  Feature_23  569 non-null    float64\n",
      " 25  Feature_24  569 non-null    float64\n",
      " 26  Feature_25  569 non-null    float64\n",
      " 27  Feature_26  569 non-null    float64\n",
      " 28  Feature_27  569 non-null    float64\n",
      " 29  Feature_28  569 non-null    float64\n",
      " 30  Feature_29  569 non-null    float64\n",
      " 31  Feature_30  569 non-null    float64\n",
      "dtypes: float64(30), int64(1), object(1)\n",
      "memory usage: 142.4+ KB\n"
     ]
    }
   ],
   "source": [
    "data.info()"
   ]
  },
  {
   "cell_type": "markdown",
   "id": "dd9fa090-2799-4aa5-9cc4-8bfc59308f28",
   "metadata": {},
   "source": [
    "### Statistical Summary: Gives statistical insights such as mean, standard deviation, min, and max for numerical columns."
   ]
  },
  {
   "cell_type": "code",
   "execution_count": 35,
   "id": "2ac5a075-b1d3-463b-8f63-4280f9905e8a",
   "metadata": {},
   "outputs": [
    {
     "data": {
      "text/html": [
       "<div>\n",
       "<style scoped>\n",
       "    .dataframe tbody tr th:only-of-type {\n",
       "        vertical-align: middle;\n",
       "    }\n",
       "\n",
       "    .dataframe tbody tr th {\n",
       "        vertical-align: top;\n",
       "    }\n",
       "\n",
       "    .dataframe thead th {\n",
       "        text-align: right;\n",
       "    }\n",
       "</style>\n",
       "<table border=\"1\" class=\"dataframe\">\n",
       "  <thead>\n",
       "    <tr style=\"text-align: right;\">\n",
       "      <th></th>\n",
       "      <th>count</th>\n",
       "      <th>mean</th>\n",
       "      <th>std</th>\n",
       "      <th>min</th>\n",
       "      <th>25%</th>\n",
       "      <th>50%</th>\n",
       "      <th>75%</th>\n",
       "      <th>max</th>\n",
       "    </tr>\n",
       "  </thead>\n",
       "  <tbody>\n",
       "    <tr>\n",
       "      <th>ID</th>\n",
       "      <td>569.0</td>\n",
       "      <td>3.037183e+07</td>\n",
       "      <td>1.250206e+08</td>\n",
       "      <td>8670.000000</td>\n",
       "      <td>869218.000000</td>\n",
       "      <td>906024.000000</td>\n",
       "      <td>8.813129e+06</td>\n",
       "      <td>9.113205e+08</td>\n",
       "    </tr>\n",
       "    <tr>\n",
       "      <th>Feature_1</th>\n",
       "      <td>569.0</td>\n",
       "      <td>1.412729e+01</td>\n",
       "      <td>3.524049e+00</td>\n",
       "      <td>6.981000</td>\n",
       "      <td>11.700000</td>\n",
       "      <td>13.370000</td>\n",
       "      <td>1.578000e+01</td>\n",
       "      <td>2.811000e+01</td>\n",
       "    </tr>\n",
       "    <tr>\n",
       "      <th>Feature_2</th>\n",
       "      <td>569.0</td>\n",
       "      <td>1.928965e+01</td>\n",
       "      <td>4.301036e+00</td>\n",
       "      <td>9.710000</td>\n",
       "      <td>16.170000</td>\n",
       "      <td>18.840000</td>\n",
       "      <td>2.180000e+01</td>\n",
       "      <td>3.928000e+01</td>\n",
       "    </tr>\n",
       "    <tr>\n",
       "      <th>Feature_3</th>\n",
       "      <td>569.0</td>\n",
       "      <td>9.196903e+01</td>\n",
       "      <td>2.429898e+01</td>\n",
       "      <td>43.790000</td>\n",
       "      <td>75.170000</td>\n",
       "      <td>86.240000</td>\n",
       "      <td>1.041000e+02</td>\n",
       "      <td>1.885000e+02</td>\n",
       "    </tr>\n",
       "    <tr>\n",
       "      <th>Feature_4</th>\n",
       "      <td>569.0</td>\n",
       "      <td>6.548891e+02</td>\n",
       "      <td>3.519141e+02</td>\n",
       "      <td>143.500000</td>\n",
       "      <td>420.300000</td>\n",
       "      <td>551.100000</td>\n",
       "      <td>7.827000e+02</td>\n",
       "      <td>2.501000e+03</td>\n",
       "    </tr>\n",
       "    <tr>\n",
       "      <th>Feature_5</th>\n",
       "      <td>569.0</td>\n",
       "      <td>9.636028e-02</td>\n",
       "      <td>1.406413e-02</td>\n",
       "      <td>0.052630</td>\n",
       "      <td>0.086370</td>\n",
       "      <td>0.095870</td>\n",
       "      <td>1.053000e-01</td>\n",
       "      <td>1.634000e-01</td>\n",
       "    </tr>\n",
       "    <tr>\n",
       "      <th>Feature_6</th>\n",
       "      <td>569.0</td>\n",
       "      <td>1.043410e-01</td>\n",
       "      <td>5.281276e-02</td>\n",
       "      <td>0.019380</td>\n",
       "      <td>0.064920</td>\n",
       "      <td>0.092630</td>\n",
       "      <td>1.304000e-01</td>\n",
       "      <td>3.454000e-01</td>\n",
       "    </tr>\n",
       "    <tr>\n",
       "      <th>Feature_7</th>\n",
       "      <td>569.0</td>\n",
       "      <td>8.879932e-02</td>\n",
       "      <td>7.971981e-02</td>\n",
       "      <td>0.000000</td>\n",
       "      <td>0.029560</td>\n",
       "      <td>0.061540</td>\n",
       "      <td>1.307000e-01</td>\n",
       "      <td>4.268000e-01</td>\n",
       "    </tr>\n",
       "    <tr>\n",
       "      <th>Feature_8</th>\n",
       "      <td>569.0</td>\n",
       "      <td>4.891915e-02</td>\n",
       "      <td>3.880284e-02</td>\n",
       "      <td>0.000000</td>\n",
       "      <td>0.020310</td>\n",
       "      <td>0.033500</td>\n",
       "      <td>7.400000e-02</td>\n",
       "      <td>2.012000e-01</td>\n",
       "    </tr>\n",
       "    <tr>\n",
       "      <th>Feature_9</th>\n",
       "      <td>569.0</td>\n",
       "      <td>1.811619e-01</td>\n",
       "      <td>2.741428e-02</td>\n",
       "      <td>0.106000</td>\n",
       "      <td>0.161900</td>\n",
       "      <td>0.179200</td>\n",
       "      <td>1.957000e-01</td>\n",
       "      <td>3.040000e-01</td>\n",
       "    </tr>\n",
       "    <tr>\n",
       "      <th>Feature_10</th>\n",
       "      <td>569.0</td>\n",
       "      <td>6.279761e-02</td>\n",
       "      <td>7.060363e-03</td>\n",
       "      <td>0.049960</td>\n",
       "      <td>0.057700</td>\n",
       "      <td>0.061540</td>\n",
       "      <td>6.612000e-02</td>\n",
       "      <td>9.744000e-02</td>\n",
       "    </tr>\n",
       "    <tr>\n",
       "      <th>Feature_11</th>\n",
       "      <td>569.0</td>\n",
       "      <td>4.051721e-01</td>\n",
       "      <td>2.773127e-01</td>\n",
       "      <td>0.111500</td>\n",
       "      <td>0.232400</td>\n",
       "      <td>0.324200</td>\n",
       "      <td>4.789000e-01</td>\n",
       "      <td>2.873000e+00</td>\n",
       "    </tr>\n",
       "    <tr>\n",
       "      <th>Feature_12</th>\n",
       "      <td>569.0</td>\n",
       "      <td>1.216853e+00</td>\n",
       "      <td>5.516484e-01</td>\n",
       "      <td>0.360200</td>\n",
       "      <td>0.833900</td>\n",
       "      <td>1.108000</td>\n",
       "      <td>1.474000e+00</td>\n",
       "      <td>4.885000e+00</td>\n",
       "    </tr>\n",
       "    <tr>\n",
       "      <th>Feature_13</th>\n",
       "      <td>569.0</td>\n",
       "      <td>2.866059e+00</td>\n",
       "      <td>2.021855e+00</td>\n",
       "      <td>0.757000</td>\n",
       "      <td>1.606000</td>\n",
       "      <td>2.287000</td>\n",
       "      <td>3.357000e+00</td>\n",
       "      <td>2.198000e+01</td>\n",
       "    </tr>\n",
       "    <tr>\n",
       "      <th>Feature_14</th>\n",
       "      <td>569.0</td>\n",
       "      <td>4.033708e+01</td>\n",
       "      <td>4.549101e+01</td>\n",
       "      <td>6.802000</td>\n",
       "      <td>17.850000</td>\n",
       "      <td>24.530000</td>\n",
       "      <td>4.519000e+01</td>\n",
       "      <td>5.422000e+02</td>\n",
       "    </tr>\n",
       "    <tr>\n",
       "      <th>Feature_15</th>\n",
       "      <td>569.0</td>\n",
       "      <td>7.040979e-03</td>\n",
       "      <td>3.002518e-03</td>\n",
       "      <td>0.001713</td>\n",
       "      <td>0.005169</td>\n",
       "      <td>0.006380</td>\n",
       "      <td>8.146000e-03</td>\n",
       "      <td>3.113000e-02</td>\n",
       "    </tr>\n",
       "    <tr>\n",
       "      <th>Feature_16</th>\n",
       "      <td>569.0</td>\n",
       "      <td>2.547814e-02</td>\n",
       "      <td>1.790818e-02</td>\n",
       "      <td>0.002252</td>\n",
       "      <td>0.013080</td>\n",
       "      <td>0.020450</td>\n",
       "      <td>3.245000e-02</td>\n",
       "      <td>1.354000e-01</td>\n",
       "    </tr>\n",
       "    <tr>\n",
       "      <th>Feature_17</th>\n",
       "      <td>569.0</td>\n",
       "      <td>3.189372e-02</td>\n",
       "      <td>3.018606e-02</td>\n",
       "      <td>0.000000</td>\n",
       "      <td>0.015090</td>\n",
       "      <td>0.025890</td>\n",
       "      <td>4.205000e-02</td>\n",
       "      <td>3.960000e-01</td>\n",
       "    </tr>\n",
       "    <tr>\n",
       "      <th>Feature_18</th>\n",
       "      <td>569.0</td>\n",
       "      <td>1.179614e-02</td>\n",
       "      <td>6.170285e-03</td>\n",
       "      <td>0.000000</td>\n",
       "      <td>0.007638</td>\n",
       "      <td>0.010930</td>\n",
       "      <td>1.471000e-02</td>\n",
       "      <td>5.279000e-02</td>\n",
       "    </tr>\n",
       "    <tr>\n",
       "      <th>Feature_19</th>\n",
       "      <td>569.0</td>\n",
       "      <td>2.054230e-02</td>\n",
       "      <td>8.266372e-03</td>\n",
       "      <td>0.007882</td>\n",
       "      <td>0.015160</td>\n",
       "      <td>0.018730</td>\n",
       "      <td>2.348000e-02</td>\n",
       "      <td>7.895000e-02</td>\n",
       "    </tr>\n",
       "    <tr>\n",
       "      <th>Feature_20</th>\n",
       "      <td>569.0</td>\n",
       "      <td>3.794904e-03</td>\n",
       "      <td>2.646071e-03</td>\n",
       "      <td>0.000895</td>\n",
       "      <td>0.002248</td>\n",
       "      <td>0.003187</td>\n",
       "      <td>4.558000e-03</td>\n",
       "      <td>2.984000e-02</td>\n",
       "    </tr>\n",
       "    <tr>\n",
       "      <th>Feature_21</th>\n",
       "      <td>569.0</td>\n",
       "      <td>1.626919e+01</td>\n",
       "      <td>4.833242e+00</td>\n",
       "      <td>7.930000</td>\n",
       "      <td>13.010000</td>\n",
       "      <td>14.970000</td>\n",
       "      <td>1.879000e+01</td>\n",
       "      <td>3.604000e+01</td>\n",
       "    </tr>\n",
       "    <tr>\n",
       "      <th>Feature_22</th>\n",
       "      <td>569.0</td>\n",
       "      <td>2.567722e+01</td>\n",
       "      <td>6.146258e+00</td>\n",
       "      <td>12.020000</td>\n",
       "      <td>21.080000</td>\n",
       "      <td>25.410000</td>\n",
       "      <td>2.972000e+01</td>\n",
       "      <td>4.954000e+01</td>\n",
       "    </tr>\n",
       "    <tr>\n",
       "      <th>Feature_23</th>\n",
       "      <td>569.0</td>\n",
       "      <td>1.072612e+02</td>\n",
       "      <td>3.360254e+01</td>\n",
       "      <td>50.410000</td>\n",
       "      <td>84.110000</td>\n",
       "      <td>97.660000</td>\n",
       "      <td>1.254000e+02</td>\n",
       "      <td>2.512000e+02</td>\n",
       "    </tr>\n",
       "    <tr>\n",
       "      <th>Feature_24</th>\n",
       "      <td>569.0</td>\n",
       "      <td>8.805831e+02</td>\n",
       "      <td>5.693570e+02</td>\n",
       "      <td>185.200000</td>\n",
       "      <td>515.300000</td>\n",
       "      <td>686.500000</td>\n",
       "      <td>1.084000e+03</td>\n",
       "      <td>4.254000e+03</td>\n",
       "    </tr>\n",
       "    <tr>\n",
       "      <th>Feature_25</th>\n",
       "      <td>569.0</td>\n",
       "      <td>1.323686e-01</td>\n",
       "      <td>2.283243e-02</td>\n",
       "      <td>0.071170</td>\n",
       "      <td>0.116600</td>\n",
       "      <td>0.131300</td>\n",
       "      <td>1.460000e-01</td>\n",
       "      <td>2.226000e-01</td>\n",
       "    </tr>\n",
       "    <tr>\n",
       "      <th>Feature_26</th>\n",
       "      <td>569.0</td>\n",
       "      <td>2.542650e-01</td>\n",
       "      <td>1.573365e-01</td>\n",
       "      <td>0.027290</td>\n",
       "      <td>0.147200</td>\n",
       "      <td>0.211900</td>\n",
       "      <td>3.391000e-01</td>\n",
       "      <td>1.058000e+00</td>\n",
       "    </tr>\n",
       "    <tr>\n",
       "      <th>Feature_27</th>\n",
       "      <td>569.0</td>\n",
       "      <td>2.721885e-01</td>\n",
       "      <td>2.086243e-01</td>\n",
       "      <td>0.000000</td>\n",
       "      <td>0.114500</td>\n",
       "      <td>0.226700</td>\n",
       "      <td>3.829000e-01</td>\n",
       "      <td>1.252000e+00</td>\n",
       "    </tr>\n",
       "    <tr>\n",
       "      <th>Feature_28</th>\n",
       "      <td>569.0</td>\n",
       "      <td>1.146062e-01</td>\n",
       "      <td>6.573234e-02</td>\n",
       "      <td>0.000000</td>\n",
       "      <td>0.064930</td>\n",
       "      <td>0.099930</td>\n",
       "      <td>1.614000e-01</td>\n",
       "      <td>2.910000e-01</td>\n",
       "    </tr>\n",
       "    <tr>\n",
       "      <th>Feature_29</th>\n",
       "      <td>569.0</td>\n",
       "      <td>2.900756e-01</td>\n",
       "      <td>6.186747e-02</td>\n",
       "      <td>0.156500</td>\n",
       "      <td>0.250400</td>\n",
       "      <td>0.282200</td>\n",
       "      <td>3.179000e-01</td>\n",
       "      <td>6.638000e-01</td>\n",
       "    </tr>\n",
       "    <tr>\n",
       "      <th>Feature_30</th>\n",
       "      <td>569.0</td>\n",
       "      <td>8.394582e-02</td>\n",
       "      <td>1.806127e-02</td>\n",
       "      <td>0.055040</td>\n",
       "      <td>0.071460</td>\n",
       "      <td>0.080040</td>\n",
       "      <td>9.208000e-02</td>\n",
       "      <td>2.075000e-01</td>\n",
       "    </tr>\n",
       "  </tbody>\n",
       "</table>\n",
       "</div>"
      ],
      "text/plain": [
       "            count          mean           std          min            25%  \\\n",
       "ID          569.0  3.037183e+07  1.250206e+08  8670.000000  869218.000000   \n",
       "Feature_1   569.0  1.412729e+01  3.524049e+00     6.981000      11.700000   \n",
       "Feature_2   569.0  1.928965e+01  4.301036e+00     9.710000      16.170000   \n",
       "Feature_3   569.0  9.196903e+01  2.429898e+01    43.790000      75.170000   \n",
       "Feature_4   569.0  6.548891e+02  3.519141e+02   143.500000     420.300000   \n",
       "Feature_5   569.0  9.636028e-02  1.406413e-02     0.052630       0.086370   \n",
       "Feature_6   569.0  1.043410e-01  5.281276e-02     0.019380       0.064920   \n",
       "Feature_7   569.0  8.879932e-02  7.971981e-02     0.000000       0.029560   \n",
       "Feature_8   569.0  4.891915e-02  3.880284e-02     0.000000       0.020310   \n",
       "Feature_9   569.0  1.811619e-01  2.741428e-02     0.106000       0.161900   \n",
       "Feature_10  569.0  6.279761e-02  7.060363e-03     0.049960       0.057700   \n",
       "Feature_11  569.0  4.051721e-01  2.773127e-01     0.111500       0.232400   \n",
       "Feature_12  569.0  1.216853e+00  5.516484e-01     0.360200       0.833900   \n",
       "Feature_13  569.0  2.866059e+00  2.021855e+00     0.757000       1.606000   \n",
       "Feature_14  569.0  4.033708e+01  4.549101e+01     6.802000      17.850000   \n",
       "Feature_15  569.0  7.040979e-03  3.002518e-03     0.001713       0.005169   \n",
       "Feature_16  569.0  2.547814e-02  1.790818e-02     0.002252       0.013080   \n",
       "Feature_17  569.0  3.189372e-02  3.018606e-02     0.000000       0.015090   \n",
       "Feature_18  569.0  1.179614e-02  6.170285e-03     0.000000       0.007638   \n",
       "Feature_19  569.0  2.054230e-02  8.266372e-03     0.007882       0.015160   \n",
       "Feature_20  569.0  3.794904e-03  2.646071e-03     0.000895       0.002248   \n",
       "Feature_21  569.0  1.626919e+01  4.833242e+00     7.930000      13.010000   \n",
       "Feature_22  569.0  2.567722e+01  6.146258e+00    12.020000      21.080000   \n",
       "Feature_23  569.0  1.072612e+02  3.360254e+01    50.410000      84.110000   \n",
       "Feature_24  569.0  8.805831e+02  5.693570e+02   185.200000     515.300000   \n",
       "Feature_25  569.0  1.323686e-01  2.283243e-02     0.071170       0.116600   \n",
       "Feature_26  569.0  2.542650e-01  1.573365e-01     0.027290       0.147200   \n",
       "Feature_27  569.0  2.721885e-01  2.086243e-01     0.000000       0.114500   \n",
       "Feature_28  569.0  1.146062e-01  6.573234e-02     0.000000       0.064930   \n",
       "Feature_29  569.0  2.900756e-01  6.186747e-02     0.156500       0.250400   \n",
       "Feature_30  569.0  8.394582e-02  1.806127e-02     0.055040       0.071460   \n",
       "\n",
       "                      50%           75%           max  \n",
       "ID          906024.000000  8.813129e+06  9.113205e+08  \n",
       "Feature_1       13.370000  1.578000e+01  2.811000e+01  \n",
       "Feature_2       18.840000  2.180000e+01  3.928000e+01  \n",
       "Feature_3       86.240000  1.041000e+02  1.885000e+02  \n",
       "Feature_4      551.100000  7.827000e+02  2.501000e+03  \n",
       "Feature_5        0.095870  1.053000e-01  1.634000e-01  \n",
       "Feature_6        0.092630  1.304000e-01  3.454000e-01  \n",
       "Feature_7        0.061540  1.307000e-01  4.268000e-01  \n",
       "Feature_8        0.033500  7.400000e-02  2.012000e-01  \n",
       "Feature_9        0.179200  1.957000e-01  3.040000e-01  \n",
       "Feature_10       0.061540  6.612000e-02  9.744000e-02  \n",
       "Feature_11       0.324200  4.789000e-01  2.873000e+00  \n",
       "Feature_12       1.108000  1.474000e+00  4.885000e+00  \n",
       "Feature_13       2.287000  3.357000e+00  2.198000e+01  \n",
       "Feature_14      24.530000  4.519000e+01  5.422000e+02  \n",
       "Feature_15       0.006380  8.146000e-03  3.113000e-02  \n",
       "Feature_16       0.020450  3.245000e-02  1.354000e-01  \n",
       "Feature_17       0.025890  4.205000e-02  3.960000e-01  \n",
       "Feature_18       0.010930  1.471000e-02  5.279000e-02  \n",
       "Feature_19       0.018730  2.348000e-02  7.895000e-02  \n",
       "Feature_20       0.003187  4.558000e-03  2.984000e-02  \n",
       "Feature_21      14.970000  1.879000e+01  3.604000e+01  \n",
       "Feature_22      25.410000  2.972000e+01  4.954000e+01  \n",
       "Feature_23      97.660000  1.254000e+02  2.512000e+02  \n",
       "Feature_24     686.500000  1.084000e+03  4.254000e+03  \n",
       "Feature_25       0.131300  1.460000e-01  2.226000e-01  \n",
       "Feature_26       0.211900  3.391000e-01  1.058000e+00  \n",
       "Feature_27       0.226700  3.829000e-01  1.252000e+00  \n",
       "Feature_28       0.099930  1.614000e-01  2.910000e-01  \n",
       "Feature_29       0.282200  3.179000e-01  6.638000e-01  \n",
       "Feature_30       0.080040  9.208000e-02  2.075000e-01  "
      ]
     },
     "execution_count": 35,
     "metadata": {},
     "output_type": "execute_result"
    }
   ],
   "source": [
    "data.describe().T"
   ]
  },
  {
   "cell_type": "markdown",
   "id": "ce8ee69f-1dc5-47dd-92e3-3428143577f5",
   "metadata": {},
   "source": [
    "## Outlier Detection: Using IQR (Interquartile Range)"
   ]
  },
  {
   "cell_type": "markdown",
   "id": "2b5db70a-c206-4f06-a37d-b417cab93a0c",
   "metadata": {},
   "source": [
    "#### Imports: The code brings in tools for making graphs (matplotlib and seaborn).\n",
    "\n",
    "### Outlier Function:\n",
    "#### The calculate_outliers function checks each column in a table (DataFrame) for outliers.\n",
    "#### It finds the low and high limits for normal values using the first and third quartiles (Q1 and Q3).\n",
    "#### It counts how many values are outside these limits.\n",
    "\n",
    "### Prepare Data:\n",
    "#### The code removes the 'Diagnosis' column from the dataset, focusing only on the features for outlier analysis.\n",
    "\n",
    "### Count Outliers:\n",
    "#### It uses the function to count how many outliers are in each feature.\n",
    "\n",
    "### Make a Bar Graph:\n",
    "#### The code creates a bar graph showing the number of outliers for each feature, making it easy to see which features have more outliers."
   ]
  },
  {
   "cell_type": "code",
   "execution_count": 36,
   "id": "878e38a4-6e27-48ed-b9fe-e68203d8c8c2",
   "metadata": {},
   "outputs": [
    {
     "name": "stdout",
     "output_type": "stream",
     "text": [
      "Percentage of Outliers per Feature:\n",
      "Feature_14    11.423550\n",
      "Feature_11     6.678383\n",
      "Feature_13     6.678383\n",
      "Feature_24     6.151142\n",
      "Feature_15     5.272408\n",
      "Feature_16     4.920914\n",
      "Feature_20     4.920914\n",
      "Feature_19     4.745167\n",
      "Feature_4      4.393673\n",
      "Feature_30     4.217926\n",
      "Feature_29     4.042179\n",
      "Feature_17     3.866432\n",
      "Feature_12     3.514938\n",
      "Feature_18     3.339192\n",
      "Feature_7      3.163445\n",
      "Feature_21     2.987698\n",
      "Feature_26     2.811951\n",
      "Feature_6      2.811951\n",
      "Feature_23     2.636204\n",
      "Feature_10     2.636204\n",
      "Feature_9      2.636204\n",
      "Feature_1      2.460457\n",
      "Feature_3      2.284710\n",
      "Feature_27     2.108963\n",
      "Feature_8      1.757469\n",
      "Feature_2      1.230228\n",
      "Feature_25     1.230228\n",
      "Feature_5      1.054482\n",
      "Feature_22     0.878735\n",
      "Feature_28     0.000000\n",
      "dtype: float64\n"
     ]
    },
    {
     "data": {
      "image/png": "[encoded data removed]",
      "text/plain": [
       "<Figure size 1200x600 with 1 Axes>"
      ]
     },
     "metadata": {},
     "output_type": "display_data"
    }
   ],
   "source": [
    "def calculate_outliers_percentage(df):\n",
    "    outliers_percentage = {}\n",
    "    total_rows = len(df)\n",
    "    for column in df.columns:\n",
    "        Q1 = df[column].quantile(0.25)\n",
    "        Q3 = df[column].quantile(0.75)\n",
    "        IQR = Q3 - Q1\n",
    "        lower_bound = Q1 - 1.5 * IQR\n",
    "        upper_bound = Q3 + 1.5 * IQR\n",
    "        outliers_count = ((df[column] < lower_bound) | (df[column] > upper_bound)).sum()\n",
    "        outliers_percentage[column] = (outliers_count / total_rows) * 100\n",
    "    return pd.Series(outliers_percentage)\n",
    "features = data.iloc[:, 2:] \n",
    "target = data['Diagnosis']  \n",
    "# Calculate outlier percentages\n",
    "outliers_percentage = calculate_outliers_percentage(features)\n",
    "\n",
    "# Print the outlier percentages\n",
    "print(\"Percentage of Outliers per Feature:\")\n",
    "print(outliers_percentage.sort_values(ascending=False))\n",
    "\n",
    "# Plot the outlier percentages\n",
    "plt.figure(figsize=(12, 6))\n",
    "sns.barplot(x=outliers_percentage.index, y=outliers_percentage.values, color='skyblue')\n",
    "plt.xticks(rotation=90)\n",
    "plt.title(\"Percentage of Outliers per Feature\")\n",
    "plt.xlabel(\"Features\")\n",
    "plt.ylabel(\"Percentage of Outliers (%)\")\n",
    "plt.show()\n"
   ]
  },
  {
   "cell_type": "markdown",
   "id": "81631d3a-dc41-4eca-9af2-592c19de6767",
   "metadata": {},
   "source": [
    "## Check for Misssing Values\n",
    "\n",
    "#### Missing Values: Identifies any missing values across the dataset\n",
    "#### value 0 means there are no missing values"
   ]
  },
  {
   "cell_type": "code",
   "execution_count": 37,
   "id": "67e765bd-8a88-449b-ad8d-c3fe93240e27",
   "metadata": {},
   "outputs": [
    {
     "name": "stdout",
     "output_type": "stream",
     "text": [
      "No missing values found.\n"
     ]
    }
   ],
   "source": [
    "if data.isnull().sum().sum() > 0:\n",
    "    print(\"Dataset has missing values. Please address them.\")\n",
    "else:\n",
    "    print(\"No missing values found.\")"
   ]
  },
  {
   "cell_type": "markdown",
   "id": "d1f4231a-a6e2-4019-b71b-08555221e3fd",
   "metadata": {},
   "source": [
    "## Checki for Duplicates\n",
    "#### Duplicate Check: Detects and counts duplicate rows and calculates their percentage"
   ]
  },
  {
   "cell_type": "code",
   "execution_count": 38,
   "id": "6fdd8aeb-2631-4fb7-b74f-4158ac6fd9ca",
   "metadata": {},
   "outputs": [
    {
     "name": "stdout",
     "output_type": "stream",
     "text": [
      "\n",
      "Number of Rows with Duplicates: 0\n",
      "Percentage of Duplicate Rows: 0.00%\n"
     ]
    }
   ],
   "source": [
    "num_total_rows = len(data)\n",
    "num_duplicate_rows = data.duplicated().sum()\n",
    "percentage_duplicates = (num_duplicate_rows / num_total_rows) * 100\n",
    "print(f\"\\nNumber of Rows with Duplicates: {num_duplicate_rows}\")\n",
    "print(f\"Percentage of Duplicate Rows: {percentage_duplicates:.2f}%\")"
   ]
  },
  {
   "cell_type": "markdown",
   "id": "0a5127e6-e9f2-4f88-90c0-519705eafef9",
   "metadata": {},
   "source": [
    "## Checking for unique values\n",
    "#### Unique Values: Displays the number of unique values in each column, useful for identifying categorical data.\n"
   ]
  },
  {
   "cell_type": "code",
   "execution_count": 39,
   "id": "19c83565-f2cb-4a22-adac-7d00fdc5e91b",
   "metadata": {},
   "outputs": [
    {
     "name": "stdout",
     "output_type": "stream",
     "text": [
      "\n",
      "Unique Values in Each Column:\n",
      "ID            569\n",
      "Diagnosis       2\n",
      "Feature_1     456\n",
      "Feature_2     479\n",
      "Feature_3     522\n",
      "Feature_4     539\n",
      "Feature_5     474\n",
      "Feature_6     537\n",
      "Feature_7     537\n",
      "Feature_8     542\n",
      "Feature_9     432\n",
      "Feature_10    499\n",
      "Feature_11    540\n",
      "Feature_12    519\n",
      "Feature_13    533\n",
      "Feature_14    528\n",
      "Feature_15    547\n",
      "Feature_16    541\n",
      "Feature_17    533\n",
      "Feature_18    507\n",
      "Feature_19    498\n",
      "Feature_20    545\n",
      "Feature_21    457\n",
      "Feature_22    511\n",
      "Feature_23    514\n",
      "Feature_24    544\n",
      "Feature_25    411\n",
      "Feature_26    529\n",
      "Feature_27    539\n",
      "Feature_28    492\n",
      "Feature_29    500\n",
      "Feature_30    535\n",
      "dtype: int64\n"
     ]
    }
   ],
   "source": [
    "print(\"\\nUnique Values in Each Column:\")\n",
    "print(data.nunique())"
   ]
  },
  {
   "cell_type": "markdown",
   "id": "8339a052-80fd-4380-ae8b-935af4f576d9",
   "metadata": {},
   "source": [
    "## Dropin 'ID' Cloumn since we dont need that for scaling"
   ]
  },
  {
   "cell_type": "code",
   "execution_count": 40,
   "id": "910bf03f-7eb3-410e-9d1e-fbac09e81c27",
   "metadata": {},
   "outputs": [],
   "source": [
    "data.drop('ID', axis=1, inplace=True)"
   ]
  },
  {
   "cell_type": "markdown",
   "id": "7feb569a-6d84-40db-b9c0-b64de586db30",
   "metadata": {},
   "source": [
    "## Scalling features\n",
    "\n",
    "#### Initialize the Scaler:scaler = StandardScaler() creates an object that will help standardize (scale) the data.\n",
    "\n",
    "#### Prepare Feature Data:X = data.drop('Diagnosis', axis=1) removes the 'Diagnosis' column from the dataset, so X now contains only the feature columns.\n",
    "\n",
    "#### Scale the Features:X_scaled = scaler.fit_transform(X) standardizes the features in X. This means it adjusts the values so that they have a mean of 0 and a standard deviation of 1, making the data easier to work with for modeling\n",
    "\n",
    "#### Prepare Target Data:y = data['Diagnosis'] stores the 'Diagnosis' column in y, which represents the target variable we want to predict"
   ]
  },
  {
   "cell_type": "code",
   "execution_count": 41,
   "id": "d6a8f078-5684-4dfa-aad2-d8e8cf053fde",
   "metadata": {},
   "outputs": [],
   "source": [
    "scaler = StandardScaler()\n",
    "X = data.drop('Diagnosis', axis=1)\n",
    "X_scaled = scaler.fit_transform(X)\n",
    "y = data['Diagnosis']"
   ]
  },
  {
   "cell_type": "markdown",
   "id": "135eb2e1-5e86-4407-bd9c-5bbff770fcc6",
   "metadata": {},
   "source": [
    "## Splitting Data"
   ]
  },
  {
   "cell_type": "markdown",
   "id": "7b4a9e74-828f-4c5e-b0f7-d0b8d8fd0460",
   "metadata": {},
   "source": [
    "#### Split the Data:train_test_split divides the scaled feature data (X_scaled) and the target data (y) into training (70%) and testing (30%) sets.\n",
    "\n",
    "#### Random State:random_state=42 ensures the split is the same each time the code runs.\n",
    "\n",
    "#### Print Shapes:The shapes of the training and testing sets are printed to show how many samples and features each contains."
   ]
  },
  {
   "cell_type": "code",
   "execution_count": 58,
   "id": "13ab4640-d177-488d-aad7-a74b7f80bb76",
   "metadata": {},
   "outputs": [
    {
     "name": "stdout",
     "output_type": "stream",
     "text": [
      "\n",
      "Training data shape: (398, 30)\n",
      "Testing data shape: (171, 30)\n"
     ]
    }
   ],
   "source": [
    "X_train, X_test, y_train, y_test = train_test_split(X_scaled, y, test_size=0.3, random_state=42)\n",
    "print(f\"\\nTraining data shape: {X_train.shape}\")\n",
    "print(f\"Testing data shape: {X_test.shape}\")"
   ]
  },
  {
   "cell_type": "markdown",
   "id": "ae6bb29b-1f4f-4faa-a790-e0c35c4a8df5",
   "metadata": {},
   "source": [
    "# Visualize the count of Benign vs Malignant cases"
   ]
  },
  {
   "cell_type": "code",
   "execution_count": 59,
   "id": "0e3736e8-3385-4c95-a220-294343fdfeab",
   "metadata": {},
   "outputs": [
    {
     "data": {
      "image/png": "[encoded data removed]",
      "text/plain": [
       "<Figure size 800x600 with 1 Axes>"
      ]
     },
     "metadata": {},
     "output_type": "display_data"
    }
   ],
   "source": [
    "plt.figure(figsize=(8, 6))\n",
    "sns.countplot(x='Diagnosis', data=data)\n",
    "plt.title('Count of Benign and Malignant Cases')\n",
    "plt.xlabel('Diagnosis (0: Benign, 1: Malignant)')\n",
    "plt.ylabel('Count')\n",
    "plt.xticks(ticks=[0, 1], labels=['Benign', 'Malignant'])  # Set x-tick labels\n",
    "plt.show()"
   ]
  },
  {
   "cell_type": "markdown",
   "id": "70015e6b-9ab8-4f74-a306-1755ee0a8827",
   "metadata": {},
   "source": [
    "# Balancing Data with SMOTE\n",
    "#### Import SMOTE: from imblearn.over_sampling import SMOTE brings in the SMOTE function, which helps to balance the data.\n",
    "\n",
    "#### Initialize SMOTE: smote = SMOTE(random_state=42) sets up SMOTE with a fixed random state for consistency.\n",
    "\n",
    "#### Resample Data: X_train_resampled, y_train_resampled = smote.fit_resample(X_train, y_train) applies SMOTE to X_train and y_train, creating a balanced version (X_train_resampled and y_train_resampled) by generating synthetic samples for the minority class."
   ]
  },
  {
   "cell_type": "code",
   "execution_count": 60,
   "id": "e04993b7-dc48-4900-9be5-bc7a85685192",
   "metadata": {},
   "outputs": [],
   "source": [
    "from imblearn.over_sampling import SMOTE\n",
    "\n",
    "smote = SMOTE(random_state=42)\n",
    "X_train_resampled, y_train_resampled = smote.fit_resample(X_train, y_train)"
   ]
  },
  {
   "cell_type": "markdown",
   "id": "a4142437-aaf5-44f2-868b-9be7591de631",
   "metadata": {},
   "source": [
    "# Visualize class distribution before SMOTE"
   ]
  },
  {
   "cell_type": "code",
   "execution_count": 61,
   "id": "0d867ede-d37d-4c54-8904-d5b446ecab49",
   "metadata": {},
   "outputs": [
    {
     "data": {
      "image/png": "[encoded data removed]",
      "text/plain": [
       "<Figure size 600x400 with 1 Axes>"
      ]
     },
     "metadata": {},
     "output_type": "display_data"
    }
   ],
   "source": [
    "plt.figure(figsize=(6, 4))\n",
    "sns.countplot(x=y)\n",
    "plt.title(\"Class distribution before SMOTE\")\n",
    "plt.xlabel(\"Class (0: Benign, 1: Malignant)\")\n",
    "plt.ylabel(\"Count\")\n",
    "plt.show()"
   ]
  },
  {
   "cell_type": "markdown",
   "id": "901c0453-ad0e-498f-8691-50872d8f776c",
   "metadata": {},
   "source": [
    "# Visualize class distribution after SMOTE"
   ]
  },
  {
   "cell_type": "code",
   "execution_count": 62,
   "id": "1cf1c5b9-79e7-4e12-99be-1674f91b6c4e",
   "metadata": {},
   "outputs": [
    {
     "data": {
      "image/png": "[encoded data removed]",
      "text/plain": [
       "<Figure size 600x400 with 1 Axes>"
      ]
     },
     "metadata": {},
     "output_type": "display_data"
    }
   ],
   "source": [
    "plt.figure(figsize=(6, 4))\n",
    "sns.countplot(x=y_train_resampled)\n",
    "plt.title(\"Class Distribution after SMOTE\")\n",
    "plt.xlabel(\"Class (0: Benign, 1: Malignant)\")\n",
    "plt.ylabel(\"Count\")\n",
    "plt.show()"
   ]
  },
  {
   "cell_type": "markdown",
   "id": "d3ed1799-167e-43c6-aa65-be01d2895497",
   "metadata": {},
   "source": [
    "# Define Weak Learner for AdaBoost\n",
    "#### Import Libraries: Import AdaBoostClassifier and DecisionTreeClassifier.\n",
    "\n",
    "#### Set Weak Learner: Use a simple decision tree (depth = 1) as the base model for AdaBoost."
   ]
  },
  {
   "cell_type": "code",
   "execution_count": 63,
   "id": "d632036c-4638-4285-ba19-b8a8fb5377e0",
   "metadata": {},
   "outputs": [],
   "source": [
    "from sklearn.ensemble import AdaBoostClassifier\n",
    "from sklearn.tree import DecisionTreeClassifier\n",
    "base_classifier = DecisionTreeClassifier(max_depth=1)\n"
   ]
  },
  {
   "cell_type": "markdown",
   "id": "93299e67-436a-4050-bbab-efaaeb73284e",
   "metadata": {},
   "source": [
    "# Implementing AdaBoost with a weak learner"
   ]
  },
  {
   "cell_type": "code",
   "execution_count": 64,
   "id": "295408e9-6c82-4d4e-bcab-5a9848dc2d34",
   "metadata": {},
   "outputs": [
    {
     "data": {
      "text/html": [
       "<style>#sk-container-id-3 {color: black;background-color: white;}#sk-container-id-3 pre{padding: 0;}#sk-container-id-3 div.sk-toggleable {background-color: white;}#sk-container-id-3 label.sk-toggleable__label {cursor: pointer;display: block;width: 100%;margin-bottom: 0;padding: 0.3em;box-sizing: border-box;text-align: center;}#sk-container-id-3 label.sk-toggleable__label-arrow:before {content: \"▸\";float: left;margin-right: 0.25em;color: #696969;}#sk-container-id-3 label.sk-toggleable__label-arrow:hover:before {color: black;}#sk-container-id-3 div.sk-estimator:hover label.sk-toggleable__label-arrow:before {color: black;}#sk-container-id-3 div.sk-toggleable__content {max-height: 0;max-width: 0;overflow: hidden;text-align: left;background-color: #f0f8ff;}#sk-container-id-3 div.sk-toggleable__content pre {margin: 0.2em;color: black;border-radius: 0.25em;background-color: #f0f8ff;}#sk-container-id-3 input.sk-toggleable__control:checked~div.sk-toggleable__content {max-height: 200px;max-width: 100%;overflow: auto;}#sk-container-id-3 input.sk-toggleable__control:checked~label.sk-toggleable__label-arrow:before {content: \"▾\";}#sk-container-id-3 div.sk-estimator input.sk-toggleable__control:checked~label.sk-toggleable__label {background-color: #d4ebff;}#sk-container-id-3 div.sk-label input.sk-toggleable__control:checked~label.sk-toggleable__label {background-color: #d4ebff;}#sk-container-id-3 input.sk-hidden--visually {border: 0;clip: rect(1px 1px 1px 1px);clip: rect(1px, 1px, 1px, 1px);height: 1px;margin: -1px;overflow: hidden;padding: 0;position: absolute;width: 1px;}#sk-container-id-3 div.sk-estimator {font-family: monospace;background-color: #f0f8ff;border: 1px dotted black;border-radius: 0.25em;box-sizing: border-box;margin-bottom: 0.5em;}#sk-container-id-3 div.sk-estimator:hover {background-color: #d4ebff;}#sk-container-id-3 div.sk-parallel-item::after {content: \"\";width: 100%;border-bottom: 1px solid gray;flex-grow: 1;}#sk-container-id-3 div.sk-label:hover label.sk-toggleable__label {background-color: #d4ebff;}#sk-container-id-3 div.sk-serial::before {content: \"\";position: absolute;border-left: 1px solid gray;box-sizing: border-box;top: 0;bottom: 0;left: 50%;z-index: 0;}#sk-container-id-3 div.sk-serial {display: flex;flex-direction: column;align-items: center;background-color: white;padding-right: 0.2em;padding-left: 0.2em;position: relative;}#sk-container-id-3 div.sk-item {position: relative;z-index: 1;}#sk-container-id-3 div.sk-parallel {display: flex;align-items: stretch;justify-content: center;background-color: white;position: relative;}#sk-container-id-3 div.sk-item::before, #sk-container-id-3 div.sk-parallel-item::before {content: \"\";position: absolute;border-left: 1px solid gray;box-sizing: border-box;top: 0;bottom: 0;left: 50%;z-index: -1;}#sk-container-id-3 div.sk-parallel-item {display: flex;flex-direction: column;z-index: 1;position: relative;background-color: white;}#sk-container-id-3 div.sk-parallel-item:first-child::after {align-self: flex-end;width: 50%;}#sk-container-id-3 div.sk-parallel-item:last-child::after {align-self: flex-start;width: 50%;}#sk-container-id-3 div.sk-parallel-item:only-child::after {width: 0;}#sk-container-id-3 div.sk-dashed-wrapped {border: 1px dashed gray;margin: 0 0.4em 0.5em 0.4em;box-sizing: border-box;padding-bottom: 0.4em;background-color: white;}#sk-container-id-3 div.sk-label label {font-family: monospace;font-weight: bold;display: inline-block;line-height: 1.2em;}#sk-container-id-3 div.sk-label-container {text-align: center;}#sk-container-id-3 div.sk-container {/* jupyter's `normalize.less` sets `[hidden] { display: none; }` but bootstrap.min.css set `[hidden] { display: none !important; }` so we also need the `!important` here to be able to override the default hidden behavior on the sphinx rendered scikit-learn.org. See: https://github.com/scikit-learn/scikit-learn/issues/21755 */display: inline-block !important;position: relative;}#sk-container-id-3 div.sk-text-repr-fallback {display: none;}</style><div id=\"sk-container-id-3\" class=\"sk-top-container\"><div class=\"sk-text-repr-fallback\"><pre>AdaBoostClassifier(algorithm=&#x27;SAMME&#x27;,\n",
       "                   estimator=DecisionTreeClassifier(max_depth=1),\n",
       "                   random_state=42)</pre><b>In a Jupyter environment, please rerun this cell to show the HTML representation or trust the notebook. <br />On GitHub, the HTML representation is unable to render, please try loading this page with nbviewer.org.</b></div><div class=\"sk-container\" hidden><div class=\"sk-item sk-dashed-wrapped\"><div class=\"sk-label-container\"><div class=\"sk-label sk-toggleable\"><input class=\"sk-toggleable__control sk-hidden--visually\" id=\"sk-estimator-id-7\" type=\"checkbox\" ><label for=\"sk-estimator-id-7\" class=\"sk-toggleable__label sk-toggleable__label-arrow\">AdaBoostClassifier</label><div class=\"sk-toggleable__content\"><pre>AdaBoostClassifier(algorithm=&#x27;SAMME&#x27;,\n",
       "                   estimator=DecisionTreeClassifier(max_depth=1),\n",
       "                   random_state=42)</pre></div></div></div><div class=\"sk-parallel\"><div class=\"sk-parallel-item\"><div class=\"sk-item\"><div class=\"sk-label-container\"><div class=\"sk-label sk-toggleable\"><input class=\"sk-toggleable__control sk-hidden--visually\" id=\"sk-estimator-id-8\" type=\"checkbox\" ><label for=\"sk-estimator-id-8\" class=\"sk-toggleable__label sk-toggleable__label-arrow\">estimator: DecisionTreeClassifier</label><div class=\"sk-toggleable__content\"><pre>DecisionTreeClassifier(max_depth=1)</pre></div></div></div><div class=\"sk-serial\"><div class=\"sk-item\"><div class=\"sk-estimator sk-toggleable\"><input class=\"sk-toggleable__control sk-hidden--visually\" id=\"sk-estimator-id-9\" type=\"checkbox\" ><label for=\"sk-estimator-id-9\" class=\"sk-toggleable__label sk-toggleable__label-arrow\">DecisionTreeClassifier</label><div class=\"sk-toggleable__content\"><pre>DecisionTreeClassifier(max_depth=1)</pre></div></div></div></div></div></div></div></div></div></div>"
      ],
      "text/plain": [
       "AdaBoostClassifier(algorithm='SAMME',\n",
       "                   estimator=DecisionTreeClassifier(max_depth=1),\n",
       "                   random_state=42)"
      ]
     },
     "execution_count": 64,
     "metadata": {},
     "output_type": "execute_result"
    }
   ],
   "source": [
    "ada_boost = AdaBoostClassifier(\n",
    "    estimator=base_classifier,      \n",
    "    n_estimators=50,                \n",
    "    algorithm='SAMME',              \n",
    "    random_state=42\n",
    ")\n",
    "ada_boost.fit(X_train_resampled, y_train_resampled)\n"
   ]
  },
  {
   "cell_type": "markdown",
   "id": "a49ad3f0-11c8-4957-8959-7f5bd20c83d7",
   "metadata": {},
   "source": [
    "# Model Prediction and Evaluation\n",
    "#### Make Predictions : y_pred = ada_boost.predict(X_test) predicts labels for the test set.\n",
    "\n",
    "#### Import Metrics : Import functions to calculate evaluation metrics.\n",
    "\n",
    "#### Calculate Metrics : Calculate accuracy, precision, recall, F1 score, and confusion matrix.\n",
    "\n",
    "#### Display Results : Print the evaluation metrics (accuracy, precision, recall, F1 score)."
   ]
  },
  {
   "cell_type": "code",
   "execution_count": 65,
   "id": "d71f8ade-eb52-4b22-a68c-134efae54d88",
   "metadata": {},
   "outputs": [
    {
     "name": "stdout",
     "output_type": "stream",
     "text": [
      "Model Performance Metrics:\n",
      "Accuracy: 0.97\n",
      "Precision: 0.94\n",
      "Recall: 0.98\n",
      "F1 Score: 0.96\n"
     ]
    }
   ],
   "source": [
    "y_pred = ada_boost.predict(X_test)\n",
    "\n",
    "from sklearn.metrics import accuracy_score, precision_score, recall_score, f1_score, confusion_matrix\n",
    "\n",
    "accuracy = accuracy_score(y_test, y_pred)\n",
    "precision = precision_score(y_test, y_pred, pos_label='M')\n",
    "recall = recall_score(y_test, y_pred, pos_label='M')\n",
    "f1 = f1_score(y_test, y_pred, pos_label='M')\n",
    "conf_matrix = confusion_matrix(y_test, y_pred)\n",
    "\n",
    "print(\"Model Performance Metrics:\")\n",
    "print(f\"Accuracy: {accuracy:.2f}\")\n",
    "print(f\"Precision: {precision:.2f}\") \n",
    "print(f\"Recall: {recall:.2f}\")\n",
    "print(f\"F1 Score: {f1:.2f}\")\n"
   ]
  },
  {
   "cell_type": "markdown",
   "id": "49d0d173-4493-41e8-9f41-ba59ee2e6b3e",
   "metadata": {},
   "source": [
    "# Milestone 3\n",
    "\n",
    "# Grid Search to find the best combination of hyperparameters\n",
    "\n",
    "#### This code searches for the best settings for an AdaBoost model.\n",
    "\n",
    "#### Parameters to Test: It tries different values for:\n",
    "      Number of trees (n_estimators)\n",
    "      Step size (learning_rate)\n",
    "      Boosting type (algorithm)\n",
    "     \n",
    "#### Grid Search: It uses GridSearchCV to test all combinations of these settings.\n",
    "\n",
    "#### Best Settings: It finds and prints the best settings for highest accuracy."
   ]
  },
  {
   "cell_type": "code",
   "execution_count": 66,
   "id": "9b3a1a17-2265-422e-9658-846ff61c481b",
   "metadata": {},
   "outputs": [
    {
     "name": "stdout",
     "output_type": "stream",
     "text": [
      "Fitting 5 folds for each of 32 candidates, totalling 160 fits\n",
      "Best Hyperparameters: {'algorithm': 'SAMME', 'learning_rate': 1.0, 'n_estimators': 150}\n"
     ]
    }
   ],
   "source": [
    "from sklearn.model_selection import GridSearchCV\n",
    "param_grid = {\n",
    "    'n_estimators': [50, 100, 150, 200],\n",
    "    'learning_rate': [0.01, 0.1, 0.5, 1.0],\n",
    "    'algorithm': ['SAMME', 'SAMME.R'],\n",
    "}\n",
    "\n",
    "base_classifier = DecisionTreeClassifier(max_depth=1)\n",
    "ada_boost = AdaBoostClassifier(estimator=base_classifier, random_state=42)\n",
    "grid_search = GridSearchCV(estimator=ada_boost, param_grid=param_grid, cv=5, n_jobs=-1, verbose=1, scoring='accuracy')\n",
    "grid_search.fit(X_train_resampled, y_train_resampled)\n",
    "\n",
    "best_params = grid_search.best_params_\n",
    "print(f\"Best Hyperparameters: {best_params}\")\n"
   ]
  },
  {
   "cell_type": "markdown",
   "id": "fe9efee8-b1d4-4888-9e02-4372b47c6261",
   "metadata": {},
   "source": [
    "# Re-evaluating the Tuned Model"
   ]
  },
  {
   "cell_type": "code",
   "execution_count": 67,
   "id": "883e0ff2-11fb-4c43-9b96-5d3d3b87dfb2",
   "metadata": {},
   "outputs": [
    {
     "name": "stdout",
     "output_type": "stream",
     "text": [
      "Tuned Model Performance Metrics:\n",
      "Accuracy: 0.99\n",
      "Precision: 0.98\n",
      "Recall: 0.98\n",
      "F1 Score: 0.98\n",
      "\n",
      "Confusion Matrix for Tuned Model:\n",
      "[[107   1]\n",
      " [  1  62]]\n"
     ]
    }
   ],
   "source": [
    "from sklearn.metrics import accuracy_score, precision_score, recall_score, f1_score, confusion_matrix\n",
    "\n",
    "best_model = grid_search.best_estimator_\n",
    "y_pred_tuned = best_model.predict(X_test)\n",
    "\n",
    "# Calculate performance metrics\n",
    "accuracy_tuned = accuracy_score(y_test, y_pred_tuned)\n",
    "precision_tuned = precision_score(y_test, y_pred_tuned, pos_label='M')\n",
    "recall_tuned = recall_score(y_test, y_pred_tuned, pos_label='M')\n",
    "f1_tuned = f1_score(y_test, y_pred_tuned, pos_label='M')\n",
    "conf_matrix_tuned = confusion_matrix(y_test, y_pred_tuned)\n",
    "\n",
    "print(\"Tuned Model Performance Metrics:\")\n",
    "print(f\"Accuracy: {accuracy_tuned:.2f}\")\n",
    "print(f\"Precision: {precision_tuned:.2f}\")\n",
    "print(f\"Recall: {recall_tuned:.2f}\")\n",
    "print(f\"F1 Score: {f1_tuned:.2f}\")\n",
    "print(\"\\nConfusion Matrix for Tuned Model:\")\n",
    "print(conf_matrix_tuned)\n",
    "\n"
   ]
  },
  {
   "cell_type": "code",
   "execution_count": 68,
   "id": "aa5139c9-c326-48af-b134-f48b102cec96",
   "metadata": {},
   "outputs": [
    {
     "name": "stdout",
     "output_type": "stream",
     "text": [
      "Classification Report for Tuned Model:\n",
      "              precision    recall  f1-score   support\n",
      "\n",
      "      Benign       0.99      0.99      0.99       108\n",
      "   Malignant       0.98      0.98      0.98        63\n",
      "\n",
      "    accuracy                           0.99       171\n",
      "   macro avg       0.99      0.99      0.99       171\n",
      "weighted avg       0.99      0.99      0.99       171\n",
      "\n"
     ]
    }
   ],
   "source": [
    "from sklearn.metrics import classification_report\n",
    "\n",
    "# Generate classification report\n",
    "report = classification_report(y_test, y_pred_tuned, target_names=['Benign', 'Malignant'])\n",
    "print(\"Classification Report for Tuned Model:\")\n",
    "print(report)\n"
   ]
  },
  {
   "cell_type": "markdown",
   "id": "e347fedf-5999-4791-ae05-3ae1f9279c49",
   "metadata": {},
   "source": [
    "## Visualizing the metrics before and after tunning the model"
   ]
  },
  {
   "cell_type": "code",
   "execution_count": 69,
   "id": "77842140-9f73-4d97-9706-d8fd9089bfce",
   "metadata": {},
   "outputs": [
    {
     "data": {
      "image/png": "[encoded data removed]",
      "text/plain": [
       "<Figure size 1000x600 with 1 Axes>"
      ]
     },
     "metadata": {},
     "output_type": "display_data"
    }
   ],
   "source": [
    "import matplotlib.pyplot as plt\n",
    "import numpy as np\n",
    "\n",
    "metrics = ['Accuracy', 'Precision', 'Recall', 'F1 Score']\n",
    "untuned_metrics = [0.97, 0.94, 0.98, 0.96] \n",
    "tuned_metrics = [0.99, 0.98, 0.98, 0.98]\n",
    "\n",
    "x = np.arange(len(metrics))\n",
    "width = 0.35\n",
    "fig, ax = plt.subplots(figsize=(10, 6))\n",
    "\n",
    "rects1 = ax.bar(x - width/2, untuned_metrics, width, label='Untuned', color='blue')\n",
    "rects2 = ax.bar(x + width/2, tuned_metrics, width, label='Tuned', color='green')\n",
    "\n",
    "ax.set_xlabel('Metrics')\n",
    "ax.set_ylabel('Scores')\n",
    "ax.set_title('Model Performance Metrics: Untuned vs Tuned AdaBoost')\n",
    "ax.set_xticks(x)\n",
    "ax.set_xticklabels(metrics)\n",
    "ax.legend()\n",
    "\n",
    "# Display the plot\n",
    "plt.ylim(0, 1)\n",
    "plt.show()\n"
   ]
  },
  {
   "cell_type": "markdown",
   "id": "eac20643-3815-4974-b45f-dda698dda75a",
   "metadata": {},
   "source": [
    "# Milestone 4\n",
    "\n",
    "## Visualization and Interpretation of Results Learning\n",
    "\n",
    "# Confusion Matrix"
   ]
  },
  {
   "cell_type": "code",
   "execution_count": 70,
   "id": "a925c6c7-f24c-448a-b18d-d6228b208024",
   "metadata": {},
   "outputs": [
    {
     "data": {
      "image/png": "[encoded data removed]",
      "text/plain": [
       "<Figure size 600x400 with 2 Axes>"
      ]
     },
     "metadata": {},
     "output_type": "display_data"
    }
   ],
   "source": [
    "from sklearn.metrics import confusion_matrix\n",
    "import seaborn as sns\n",
    "import matplotlib.pyplot as plt\n",
    "\n",
    "# Confusion Matrix Plot\n",
    "def plot_confusion_matrix(y_true, y_pred, title=\"Confusion Matrix\"):\n",
    "    cm = confusion_matrix(y_true, y_pred)\n",
    "    plt.figure(figsize=(6, 4))\n",
    "    sns.heatmap(cm, annot=True, fmt='d', cmap='Blues', xticklabels=['Benign', 'Malignant'], yticklabels=['Benign', 'Malignant'])\n",
    "    plt.title(title)\n",
    "    plt.xlabel('Predicted')\n",
    "    plt.ylabel('Actual')\n",
    "    plt.show()\n",
    "\n",
    "plot_confusion_matrix(y_test, y_pred_tuned, title=\"Confusion Matrix for Tuned Model\")\n"
   ]
  },
  {
   "cell_type": "markdown",
   "id": "b971a884-c58a-4fc7-ab1c-e0f15d347639",
   "metadata": {},
   "source": [
    "# ROC curve and AUC"
   ]
  },
  {
   "cell_type": "code",
   "execution_count": 71,
   "id": "e6d76b51-947d-4109-9852-e085d0480ff4",
   "metadata": {},
   "outputs": [
    {
     "data": {
      "image/png": "[encoded data removed]",
      "text/plain": [
       "<Figure size 800x600 with 1 Axes>"
      ]
     },
     "metadata": {},
     "output_type": "display_data"
    }
   ],
   "source": [
    "from sklearn.metrics import roc_curve, roc_auc_score\n",
    "\n",
    "# Calculate probabilities for ROC\n",
    "y_pred_proba = best_model.predict_proba(X_test)[:, 1]\n",
    "fpr, tpr, thresholds = roc_curve(y_test, y_pred_proba, pos_label='M')\n",
    "auc_score = roc_auc_score(y_test, y_pred_proba)\n",
    "\n",
    "# Plot the ROC Curve\n",
    "plt.figure(figsize=(8, 6))\n",
    "plt.plot(fpr, tpr, label=f\"AUC = {auc_score:.2f}\", color='blue')\n",
    "plt.plot([0, 1], [0, 1], linestyle='--', color='gray')  # Diagonal line\n",
    "plt.title(\"Receiver Operating Characteristic (ROC) Curve\")\n",
    "plt.xlabel(\"False Positive Rate\")\n",
    "plt.ylabel(\"True Positive Rate\")\n",
    "plt.legend(loc=\"lower right\")\n",
    "plt.grid()\n",
    "plt.show()\n"
   ]
  },
  {
   "cell_type": "markdown",
   "id": "aaf8594a-64bc-4dc0-af40-9bf0c38a5406",
   "metadata": {},
   "source": [
    "# Feature Importances"
   ]
  },
  {
   "cell_type": "code",
   "execution_count": 72,
   "id": "ba4ffa04-937c-457b-843c-6bc3ef0bf2e3",
   "metadata": {},
   "outputs": [
    {
     "data": {
      "image/png": "[encoded data removed]",
      "text/plain": [
       "<Figure size 1000x600 with 1 Axes>"
      ]
     },
     "metadata": {},
     "output_type": "display_data"
    }
   ],
   "source": [
    "# Extract Feature Importances\n",
    "feature_importances = best_model.feature_importances_\n",
    "sorted_idx = np.argsort(feature_importances)[::-1]\n",
    "sorted_features = X.columns[sorted_idx]\n",
    "sorted_importances = feature_importances[sorted_idx]\n",
    "\n",
    "# Plot Feature Importances\n",
    "plt.figure(figsize=(10, 6))\n",
    "sns.barplot(x=sorted_importances, y=sorted_features, palette='viridis')\n",
    "plt.title(\"Feature Importances for Tuned AdaBoost Model\")\n",
    "plt.xlabel(\"Importance Score\")\n",
    "plt.ylabel(\"Features\")\n",
    "plt.show()\n"
   ]
  },
  {
   "cell_type": "markdown",
   "id": "3f83f877-474d-4eda-aaf2-a67a235d5ab0",
   "metadata": {},
   "source": [
    "# Saving Model"
   ]
  },
  {
   "cell_type": "code",
   "execution_count": 73,
   "id": "8f71f151-a8a5-447d-a376-50759e50148b",
   "metadata": {},
   "outputs": [
    {
     "name": "stdout",
     "output_type": "stream",
     "text": [
      "Model and scaler saved successfully.\n"
     ]
    }
   ],
   "source": [
    "import pickle\n",
    "with open('ada_boost.pkl', 'wb') as f:\n",
    "    pickle.dump(best_model, f)\n",
    "with open('scaler.pkl', 'wb') as f:\n",
    "    pickle.dump(scaler, f)\n",
    "\n",
    "print(\"Model and scaler saved successfully.\")"
   ]
  },
  {
   "cell_type": "code",
   "execution_count": null,
   "id": "bd90bb76-0bb2-4617-bfe9-ffda95e83047",
   "metadata": {},
   "outputs": [],
   "source": []
  }
 ],
 "metadata": {
  "kernelspec": {
   "display_name": "Python 3 (ipykernel)",
   "language": "python",
   "name": "python3"
  },
  "language_info": {
   "codemirror_mode": {
    "name": "ipython",
    "version": 3
   },
   "file_extension": ".py",
   "mimetype": "text/x-python",
   "name": "python",
   "nbconvert_exporter": "python",
   "pygments_lexer": "ipython3",
   "version": "3.11.7"
  }
 },
 "nbformat": 4,
 "nbformat_minor": 5
}
